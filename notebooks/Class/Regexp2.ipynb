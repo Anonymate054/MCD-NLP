{
  "nbformat": 4,
  "nbformat_minor": 0,
  "metadata": {
    "colab": {
      "provenance": []
    },
    "kernelspec": {
      "name": "python3",
      "display_name": "Python 3"
    },
    "language_info": {
      "name": "python"
    }
  },
  "cells": [
    {
      "cell_type": "code",
      "execution_count": null,
      "metadata": {
        "id": "IueXGKbU0vWY"
      },
      "outputs": [],
      "source": [
        "# requests for fetching html of website\n",
        "import requests\n",
        "import re\n",
        "import certifi"
      ]
    },
    {
      "cell_type": "code",
      "source": [
        "certifi.where()\n",
        "r = requests.get('https://www.diputados.gob.mx/LeyesBiblio/ref/ldofgg.htm', verify=False)"
      ],
      "metadata": {
        "id": "a-iEBCHx01lt",
        "colab": {
          "base_uri": "https://localhost:8080/"
        },
        "outputId": "fcccc456-a859-4898-97ce-240133d0b890"
      },
      "execution_count": null,
      "outputs": [
        {
          "output_type": "stream",
          "name": "stderr",
          "text": [
            "/usr/local/lib/python3.10/dist-packages/urllib3/connectionpool.py:1099: InsecureRequestWarning: Unverified HTTPS request is being made to host 'www.diputados.gob.mx'. Adding certificate verification is strongly advised. See: https://urllib3.readthedocs.io/en/latest/advanced-usage.html#tls-warnings\n",
            "  warnings.warn(\n"
          ]
        }
      ]
    },
    {
      "cell_type": "code",
      "source": [
        "c = r.content"
      ],
      "metadata": {
        "id": "VeAT0RgK06zr"
      },
      "execution_count": null,
      "outputs": []
    },
    {
      "cell_type": "code",
      "source": [
        "from bs4 import BeautifulSoup\n",
        "# Create a soup object\n",
        "soup = BeautifulSoup(c, features=\"lxml\")"
      ],
      "metadata": {
        "id": "9f8bpEG60-eg"
      },
      "execution_count": null,
      "outputs": []
    },
    {
      "cell_type": "code",
      "source": [
        "print(soup)"
      ],
      "metadata": {
        "id": "BJL-lBmD1FoG",
        "colab": {
          "base_uri": "https://localhost:8080/"
        },
        "collapsed": true,
        "outputId": "5dec50b0-0eea-4aa9-8e25-08464ce09dc5"
      },
      "execution_count": null,
      "outputs": [
        {
          "output_type": "stream",
          "name": "stdout",
          "text": [
            "<!DOCTYPE html>\n",
            "<html class=\"no-js\" lang=\"es\">\n",
            "<head>\n",
            "<meta charset=\"utf-8\"/>\n",
            "<meta content=\"width=device-width, initial-scale=1\" name=\"viewport\"/>\n",
            "<title>Ley del Diario Oficial de la Federación y Gacetas Gubernamentales</title>\n",
            "<!-- Favicon -->\n",
            "<link href=\"../imagenes/principal/favicon.png\" rel=\"shortcut icon\"/>\n",
            "<!-- Bootstrap CSS -->\n",
            "<link crossorigin=\"anonymous\" href=\"https://stackpath.bootstrapcdn.com/bootstrap/4.3.1/css/bootstrap.min.css\" integrity=\"sha384-ggOyR0iXCbMQv3Xipma34MD+dH/1fQ784/j6cY/iJTQUOhcWr7x9JvoRxT2MZw1T\" rel=\"stylesheet\"/>\n",
            "<!-- Boxicons CSS-->\n",
            "<link href=\"https://unpkg.com/boxicons@2.1.4/css/boxicons.min.css\" rel=\"stylesheet\"/>\n",
            "<!-- Main Menu CSS -->\n",
            "<link href=\"../css/meanmenu.min.css\" rel=\"stylesheet\"/>\n",
            "<!-- Custom Style CSS -->\n",
            "<link href=\"../css/style.css\" rel=\"stylesheet\"/>\n",
            "<!-- Custom Calendar Device CSS -->\n",
            "<link href=\"../css/custom.css\" rel=\"stylesheet\" type=\"text/css\"/>\n",
            "</head>\n",
            "<body>\n",
            "<div class=\"wrapper\" id=\"wrapper\">\n",
            "<!-- Header Area Start Here -->\n",
            "<header>\n",
            "<div class=\"header-style6\" id=\"header-layout2\">\n",
            "<div class=\"header-top-bar\">\n",
            "<div class=\"top-bar-top bg-accent1 border-bottom\">\n",
            "<div class=\"container\">\n",
            "<div class=\"row\">\n",
            "<div class=\"col-lg-9 col-md-12\">\n",
            "<ul class=\"news-info-list text-center--md\">\n",
            "<li>\n",
            "<i aria-hidden=\"true\" class=\"bx bxs-calendar\"></i><b><span id=\"current_date\"></span>\r\n",
            "\t\t\t\t\t\t\t\t\t\t\t\t.    <span style=\"font-size: 9pt\">\"LXVI Legislatura\"</span></b>\n",
            "</li>\n",
            "</ul>\n",
            "</div>\n",
            "<div class=\"col-lg-3 d-none d-lg-block\">\n",
            "<ul class=\"header-social\">\n",
            "<li>\n",
            "<a href=\"https://www.facebook.com/camaradediputados\" target=\"_blank\" title=\"Facebook\">\n",
            "<i aria-hidden=\"true\" class=\"bx bxl-facebook bx-border-circle\"></i>\n",
            "</a>\n",
            "</li>\n",
            "<li>\n",
            "<a href=\"https://twitter.com/Mx_Diputados\" target=\"_blank\" title=\"X-Twitter\">\n",
            "<i aria-hidden=\"true\" class=\"bx bxl-twitter bx-border-circle\"></i>\n",
            "</a>\n",
            "</li>\n",
            "<li>\n",
            "<a href=\"https://www.youtube.com/user/camaradediputadosmx\" target=\"_blank\" title=\"YouTube\">\n",
            "<i aria-hidden=\"true\" class=\"bx bxl-youtube bx-border-circle\"></i>\n",
            "</a>\n",
            "</li>\n",
            "</ul>\n",
            "</div>\n",
            "</div>\n",
            "</div>\n",
            "</div>\n",
            "</div>\n",
            "<div class=\"main-menu-area bg-body border-bottom\" id=\"sticker\">\n",
            "<div class=\"container\">\n",
            "<div class=\"row no-gutters align-items-center\">\n",
            "<div class=\"col-lg-2 d-none d-lg-block\">\n",
            "<div class=\"logo-area\">\n",
            "<p style=\"line-height: 100%; margin-top: 0; margin-bottom: 0\">\n",
            "<a href=\"https://www.diputados.gob.mx/\" target=\"_self\">\n",
            "<img border=\"0\" height=\"67\" src=\"../imagenes/principal/logo66.png\" width=\"225\"/></a>\n",
            "</p></div>\n",
            "</div>\n",
            "<div class=\"col-lg-10 d-none d-lg-block position-static min-height-none\">\n",
            "<div class=\"ne-main-menu\">\n",
            "<nav id=\"dropdown\">\n",
            "<ul>\n",
            "<li class=\"active\">\n",
            "<p style=\"line-height: 100%; margin-top: 0; margin-bottom: 0\">\n",
            "<a href=\"../index.htm\">\n",
            "<font color=\"#DC0228\" face=\"Arial Narrow\" style=\"font-size: 9pt\"><b>VIGENTES</b></font></a>\n",
            "</p></li>\n",
            "<li class=\"active\">\n",
            "<p style=\"line-height: 100%; margin-top: 0; margin-bottom: 0\">\n",
            "<a href=\"cpeum.htm\">\n",
            "<font face=\"Arial Narrow\" style=\"font-size: 9pt\"><b>CPEUM</b></font></a>\n",
            "</p><ul class=\"ne-dropdown-menu\">\n",
            "<li>\n",
            "<a href=\"cpeum_crono.htm\"><font face=\"Arial\" size=\"2\">Reformas en Orden Cronológico</font></a>\n",
            "</li>\n",
            "<li>\n",
            "<a href=\"cpeum_art.htm\"><font face=\"Arial\" size=\"2\">Reformas por Artículo</font></a>\n",
            "</li>\n",
            "<li>\n",
            "<a href=\"cpeum_per.htm\"><font face=\"Arial\" size=\"2\">Reformas por Periodo Presidencial</font></a>\n",
            "</li>\n",
            "<li>\n",
            "<a href=\"cpeum.htm\"><font face=\"Arial\" size=\"2\">Más de la Constitución</font></a>\n",
            "</li>\n",
            "</ul>\n",
            "</li>\n",
            "<li class=\"active\">\n",
            "<p style=\"line-height: 100%; margin-top: 0; margin-bottom: 0\">\n",
            "<a href=\"../marco.htm\">\n",
            "<font face=\"Arial Narrow\" style=\"font-size: 9pt\"><b>MARCO</b></font></a>\n",
            "</p><ul class=\"ne-dropdown-menu\">\n",
            "<li>\n",
            "<a href=\"../marco.htm\"><font face=\"Arial\" size=\"2\">Marco Jurídico del Congreso</font></a>\n",
            "</li>\n",
            "<li>\n",
            "<a href=\"../marjur/normas.htm\"><font face=\"Arial\" size=\"2\">Normas y Reglamentos internos</font></a>\n",
            "</li>\n",
            "<li>\n",
            "<a href=\"../marjur/marjur.htm\"><font face=\"Arial\" size=\"2\">Otras Disposiciones de la Cámara</font></a>\n",
            "</li>\n",
            "</ul>\n",
            "</li>\n",
            "<li class=\"active\">\n",
            "<p style=\"line-height: 100%; margin-top: 0; margin-bottom: 0\">\n",
            "<a href=\"../abroga.htm\">\n",
            "<font face=\"Arial Narrow\" style=\"font-size: 9pt\"><b>ABROGADAS</b></font></a>\n",
            "</p></li>\n",
            "<li class=\"active\">\n",
            "<p style=\"line-height: 100%; margin-top: 0; margin-bottom: 0\">\n",
            "<a href=\"../sumario.htm\">\n",
            "<font face=\"Arial Narrow\" style=\"font-size: 9pt\"><b>SUMARIO</b></font></a>\n",
            "</p></li>\n",
            "<li class=\"active\">\n",
            "<p style=\"line-height: 100%; margin-top: 0; margin-bottom: 0\">\n",
            "<a href=\"../legis.htm\">\n",
            "<font face=\"Arial Narrow\" style=\"font-size: 9pt\"><b>LEGISLATURAS</b></font></a>\n",
            "</p><ul class=\"ne-dropdown-menu\">\n",
            "<li>\n",
            "<a href=\"../legis/reflxvi.htm\"><font face=\"Arial\" size=\"2\">Reformas LXVI Legislatura</font></a>\n",
            "</li>\n",
            "<li>\n",
            "<a href=\"../legis/reflxv.htm\"><font face=\"Arial\" size=\"2\">Reformas LXV Legislatura</font></a>\n",
            "</li>\n",
            "<li>\n",
            "<a href=\"../legis/reflxiv.htm\"><font face=\"Arial\" size=\"2\">Reformas LXIV Legislatura</font></a>\n",
            "</li>\n",
            "<li>\n",
            "<a href=\"../legis.htm\"><font face=\"Arial\" size=\"2\">Legislaturas anteriores</font></a>\n",
            "</li>\n",
            "</ul>\n",
            "</li>\n",
            "<li class=\"active\">\n",
            "<p style=\"line-height: 100%; margin-top: 0; margin-bottom: 0\">\n",
            "<a href=\"../legiscd.htm\">\n",
            "<font face=\"Arial Narrow\" style=\"font-size: 9pt\"><b>DESCARGA</b></font></a>\n",
            "</p></li>\n",
            "<li class=\"active\">\n",
            "<p style=\"line-height: 100%; margin-top: 0; margin-bottom: 0\">\n",
            "<a href=\"../regley.htm\">\n",
            "<font face=\"Arial Narrow\" style=\"font-size: 9pt\"><b>REG LEY</b></font></a>\n",
            "</p><ul class=\"ne-dropdown-menu\">\n",
            "<li>\n",
            "<a href=\"../regla.htm\"><font face=\"Arial\" size=\"2\">Reglamentos de Leyes vigentes</font></a>\n",
            "</li>\n",
            "<li>\n",
            "<a href=\"../regley_abro.htm\"><font face=\"Arial\" size=\"2\">Reglamentos de Leyes abrogados</font></a>\n",
            "</li>\n",
            "</ul>\n",
            "</li>\n",
            "<li class=\"active\">\n",
            "<p style=\"line-height: 100%; margin-top: 0; margin-bottom: 0\">\n",
            "<a href=\"../norma.htm\">\n",
            "<font face=\"Arial Narrow\" style=\"font-size: 9pt\"><b>REG FED</b></font></a>\n",
            "</p><ul class=\"ne-dropdown-menu\">\n",
            "<li>\n",
            "<a href=\"../norma/estatuto.htm\"><font face=\"Arial\" size=\"2\">Estatutos Federales vigentes</font></a>\n",
            "</li>\n",
            "<li>\n",
            "<a href=\"../norma/manual.htm\"><font face=\"Arial\" size=\"2\">Manuales Federales vigentes</font></a>\n",
            "</li>\n",
            "<li>\n",
            "<a href=\"../norma/reglamento.htm\"><font face=\"Arial\" size=\"2\">Reglamentos Federales vigentes</font></a>\n",
            "</li>\n",
            "</ul>\n",
            "</li>\n",
            "<li class=\"active\">\n",
            "<p style=\"line-height: 100%; margin-top: 0; margin-bottom: 0\">\n",
            "<a href=\"../gobiernos.htm\">\n",
            "<font face=\"Arial Narrow\" style=\"font-size: 9pt\"><b>ESTADOS</b></font></a>\n",
            "</p></li>\n",
            "<li class=\"active\">\n",
            "<p style=\"line-height: 100%; margin-top: 0; margin-bottom: 0\">\n",
            "<a href=\"../compila.htm\">\n",
            "<font face=\"Arial Narrow\" style=\"font-size: 9pt\"><b>COMPILA</b></font></a>\n",
            "</p><ul class=\"ne-dropdown-menu\">\n",
            "<li>\n",
            "<a href=\"../compila/inconst.htm\"><font face=\"Arial\" size=\"2\">Acciones de Inconstitucionalidad</font></a>\n",
            "</li>\n",
            "<li>\n",
            "<a href=\"../compila/controv.htm\"><font face=\"Arial\" size=\"2\">Controversias Constitucionales</font></a>\n",
            "</li>\n",
            "<li>\n",
            "<a href=\"../compila/declara.htm\"><font face=\"Arial\" size=\"2\">Declaratorias de Inconstitucionalidad</font></a>\n",
            "</li>\n",
            "<li>\n",
            "<a href=\"../compila.htm\"><font face=\"Arial\" size=\"2\">Otras Compilaciones</font></a>\n",
            "</li>\n",
            "</ul>\n",
            "</li>\n",
            "<li class=\"active\">\n",
            "<p style=\"line-height: 100%; margin-top: 0; margin-bottom: 0\">\n",
            "<a href=\"../dof.htm\">\n",
            "<font face=\"Arial Narrow\" style=\"font-size: 9pt\"><b>DOF</b></font></a>\n",
            "</p><ul class=\"ne-dropdown-menu\">\n",
            "<li>\n",
            "<a href=\"../dof.htm\"><font face=\"Arial\" size=\"2\">Indices 2024</font></a>\n",
            "</li>\n",
            "<li>\n",
            "<a href=\"../dof/dof_2023.htm\"><font face=\"Arial\" size=\"2\">Indices 2023</font></a>\n",
            "</li>\n",
            "<li>\n",
            "<a href=\"../dof/dof_2022.htm\"><font face=\"Arial\" size=\"2\">Años anteriores</font></a>\n",
            "</li>\n",
            "</ul>\n",
            "</li>\n",
            "<li class=\"active\">\n",
            "<p style=\"line-height: 100%; margin-top: 0; margin-bottom: 0\">\n",
            "<a href=\"../actual/ultima.htm\">\n",
            "<font face=\"Arial Narrow\" style=\"font-size: 9pt\"><b>ACTUAL</b></font></a>\n",
            "</p><ul class=\"ne-dropdown-menu\">\n",
            "<li>\n",
            "<a href=\"../actual/ultima.htm\"><font face=\"Arial\" size=\"2\">Actualizaciones 2024</font></a>\n",
            "</li>\n",
            "<li>\n",
            "<a href=\"../actual/2023.htm\"><font face=\"Arial\" size=\"2\">Actualizaciones 2023</font></a>\n",
            "</li>\n",
            "<li>\n",
            "<a href=\"../actual/2022.htm\"><font face=\"Arial\" size=\"2\">Años anteriores</font></a>\n",
            "</li>\n",
            "</ul>\n",
            "</li>\n",
            "<li>\n",
            "<script async=\"\" src=\"https://cse.google.com/cse.js?cx=007991680573319912863:zntqixbviwu\"></script>\n",
            "<div class=\"gcse-search\">\n",
            "<p style=\"line-height: 100%; margin-top: 0; margin-bottom: 0\">\n",
            "</p></div>\n",
            "</li>\n",
            "<li>\n",
            "<div class=\"header-action-item on-mobile-fixed\">\n",
            "<ul>\n",
            "<li>\n",
            "<p style=\"line-height: 100%; margin-top: 0; margin-bottom: 0\">\n",
            "</p>\n",
            "</li>\n",
            "</ul>\n",
            "</div>\n",
            "</li>\n",
            "</ul>\n",
            "</nav>\n",
            "</div>\n",
            "</div>\n",
            "</div>\n",
            "</div>\n",
            "</div>\n",
            "</div>\n",
            "</header>\n",
            "<!-- Header Area End Here -->\n",
            "<section style=\"background-image: url('../imagenes/principal/linea.jpg');\">\n",
            "<div class=\"container\">\n",
            "</div>\n",
            "</section>\n",
            "<section class=\"bg-accent section-space-less30\" style=\"background-image: url('../imagenes/principal/background.png'); background-repeat:no-repeat;  \">\n",
            "<div class=\"container\">\n",
            "<p style=\"text-align: center; margin: 0 0cm\"><font color=\"#595843\">\n",
            "<span style=\"font-family: Verdana; font-size: 11pt; font-weight: 700\">Ley</span><b><span style=\"font-size: 11pt; font-family: Verdana\"> del Diario Oficial de \r\n",
            "\tla Federación y Gacetas Gubernamentales</span></b></font></p>\n",
            "<p style=\"text-align: center; margin: 0 0cm; line-height:100%\">\n",
            "<span alink=\"#008BBF\" bgcolor=\"#FFFFFF\" lang=\"ES-MX\" link=\"#007777\" style=\"font-family: Verdana\" text=\"#000000\" topmargin=\"2\" vlink=\"#FF0000\">\n",
            "<font size=\"2\">Última \r\n",
            "\treforma publicada </font> </span>\n",
            "<font face=\"Verdana\" size=\"2\">en el Diario Oficial de la Federación el </font>\n",
            "<span lang=\"es-mx\" style=\"font-family: Verdana; \"><font size=\"2\">31 de mayo \r\n",
            "\tde 2019</font></span></p>\n",
            "<p style=\"text-align: center; margin: 0 0cm; line-height:100%\">\n",
            "<span lang=\"es-mx\" style=\"font-family: Verdana; font-style: italic\">\n",
            "<font size=\"2\">Fe de erratas DOF 10-06-2019</font></span></p>\n",
            "<p style=\"text-align: center; margin-bottom: 0\"> </p>\n",
            "<div align=\"center\"><table border=\"0\" width=\"95%\"><tr><td>\n",
            "<p align=\"center\" style=\"margin-top: 0; margin-bottom: 0; line-height:100%\">\n",
            "<font color=\"#868A8E\" face=\"Verdana\" style=\"font-size: 9pt\">\n",
            "<img height=\"1\" src=\"../ima/h_line.gif\" style=\"height: 1px\" vspace=\"5\" width=\"100%\"/></font></p>\n",
            "<span alink=\"#008BBF\" bgcolor=\"#FFFFFF\" link=\"#007777\" style=\"alink: #008BBF\" text=\"#000000\" topmargin=\"2\" vlink=\"#FF0000\">\n",
            "<span bgcolor=\"#FFFFFF\" link=\"#007777\" style='alink=\"#008BBF\"' text=\"#000000\" topmargin=\"2\" vlink=\"#FF0000\">\n",
            "<p style=\"margin-top: 0; margin-bottom: 0\">\n",
            "<b><font color=\"#595843\" face=\"Verdana\" style=\"font-size: 9pt\">Texto Vigente:</font></b></p>\n",
            "</span>\n",
            "<p align=\"center\" style=\"margin:3px 0cm; text-align: left; line-height:100%\">\n",
            "<a href=\"../pdf/75_100619.pdf\" target=\"_blank\">\n",
            "<img border=\"0\" height=\"32\" src=\"../imagenes/principal/pdf.png\" width=\"32\"/></a> \r\n",
            "\t\t\t<a href=\"../doc/75_100619.doc\">\n",
            "<img border=\"0\" height=\"32\" src=\"../imagenes/principal/doc.png\" width=\"32\"/></a> \r\n",
            "\t\t\t<a href=\"../pdf_mov/Ley_del_Diario_Oficial_de_la_Federacion_y_Gacetas.pdf\" target=\"_blank\">\n",
            "<img border=\"0\" height=\"32\" src=\"../imagenes/principal/android_ios.png\" width=\"32\"/></a></p></span><p align=\"center\" style=\"text-align: justify; margin: 0 0cm; line-height:100%\">\n",
            "<font color=\"#868A8E\" face=\"Verdana\" style=\"font-size: 9pt\">\n",
            "<img height=\"1\" src=\"../ima/h_line.gif\" style=\"height: 1px\" vspace=\"5\" width=\"100%\"/></font></p><p class=\"MsoNormal\" style=\"text-align: justify; margin-top: 0; margin-bottom: 0; line-height:100%\">\n",
            "<b>\n",
            "<span lang=\"ES-MX\" style=\"font-size: 9pt; font-family: Verdana; color: #595843\">\r\n",
            "\tPublicación Original:</span></b></p>\n",
            "<span alink=\"#008BBF\" bgcolor=\"#FFFFFF\" link=\"#007777\" text=\"#000000\" topmargin=\"2\" vlink=\"#FF0000\">\n",
            "<p class=\"MsoNormal\" style=\"text-align: justify; margin-top: 0; margin-bottom: 0; line-height:100%\">\n",
            "<span style=\"font-size: 9pt; font-family: Verdana\">| DOF 24-12-1986 |\r\n",
            "\t<a href=\"ldofgg/LDOFGG_orig_24dic86_ima.pdf\">Imagen</a> \r\n",
            "\t|</span></p>\n",
            "</span><p class=\"MsoNormal\" style=\"text-align: justify; margin-top: 0; margin-bottom: 0; line-height:100%\">\n",
            "<span alink=\"#008BBF\" bgcolor=\"#FFFFFF\" link=\"#007777\" style=\"; alink:#008BBF; \" text=\"#000000\" topmargin=\"2\" vlink=\"#FF0000\">\n",
            "<font color=\"#868A8E\" face=\"Verdana\" style=\"font-size: 9pt\">\n",
            "<img height=\"1\" src=\"../ima/h_line.gif\" style=\"height: 1px\" vspace=\"5\" width=\"100%\"/></font></span></p>\n",
            "<p class=\"MsoNormal\" style=\"text-align: justify; margin-top: 0; margin-bottom: 0; line-height:100%\">\n",
            "<font color=\"#595843\" style=\"font-size: 9pt\"><b>\n",
            "<span lang=\"ES-MX\" style=\"font-family: Verdana\">Decretos de Reforma:</span></b></font></p>\n",
            "</td></tr></table></div>\n",
            "<div align=\"center\">\n",
            "<table border=\"0\" cellspacing=\"2\" style=\"border-collapse: collapse\" width=\"95%\">\n",
            "<tr>\n",
            "<td align=\"right\" style=\"width: 41px; padding-left: 3.5pt; padding-right: 3.5pt; padding-top: 0cm; padding-bottom: 0cm\" valign=\"top\">\n",
            "<p class=\"MsoNormal\" style=\"margin-top: 0; margin-bottom: 0; line-height:100%\">\n",
            "<font color=\"#595843\" face=\"Verdana\" style=\"font-size: 9pt\">02</font></p></td>\n",
            "<td style=\"width: 1739px; padding-left: 3.5pt; padding-right: 3.5pt; padding-top: 0cm; padding-bottom: 0cm\" valign=\"top\">\n",
            "<span alink=\"#008BBF\" bgcolor=\"#FFFFFF\" link=\"#007777\" text=\"#000000\" topmargin=\"2\" vlink=\"#FF0000\">\n",
            "<p class=\"MsoNormal\" style=\"text-align: justify; margin-top: 0; margin-bottom: 0; line-height:100%\">\n",
            "<span style=\"font-family: Verdana\"><font style=\"font-size: 9pt\"><b>DECRETO</b> \r\n",
            "\tpor el que se reforman, adicionan y derogan diversas disposiciones de la Ley \r\n",
            "\tdel Diario Oficial de la Federación y Gacetas Gubernamentales.</font></span></p>\n",
            "<p class=\"MsoNormal\" style=\"text-align: justify; margin-top: 0; margin-bottom: 0; line-height:100%\">\n",
            "<span style=\"font-size: 9pt; font-family: Verdana\">| \r\n",
            "\t<a href=\"ldofgg/LDOFGG_ref02_31may19.pdf\">DOF \r\n",
            "\t31-05-2019</a> | <a href=\"ldofgg/LDOFGG_ref02_31may19.doc\">\r\n",
            "\tWord</a> |</span></p>\n",
            "<p class=\"MsoNormal\" style=\"text-align: justify; margin-top: 0; margin-bottom: 0; line-height:100%\">\n",
            "<span style=\"font-family: Verdana; font-size: 9pt\"><i>Fe de erratas</i>\n",
            "</span>\n",
            "<span style=\"font-size: 9pt; font-family: Verdana\">| \r\n",
            "\t<a href=\"ldofgg/LDOFGG_ref02_fe_10jun19.pdf\">DOF \r\n",
            "\t10-06-2019</a> | <a href=\"ldofgg/LDOFGG_ref02_fe_10jun19.doc\">\r\n",
            "\tWord</a> |</span></p>\n",
            "<p class=\"MsoNormal\" style=\"text-align: justify; margin-top: 0; margin-bottom: 0; line-height:100%\">\n",
            "<span style=\"font-family: Verdana; font-size: 9pt\"> </span></p>\n",
            "</span></td>\n",
            "</tr>\n",
            "<tr>\n",
            "<td align=\"right\" style=\"width: 41px; padding-left: 3.5pt; padding-right: 3.5pt; padding-top: 0cm; padding-bottom: 0cm\" valign=\"top\">\n",
            "<p class=\"MsoNormal\" style=\"margin-top: 0; margin-bottom: 0; line-height:100%\">\n",
            "<font color=\"#595843\" face=\"Verdana\" style=\"font-size: 9pt\">01</font></p></td>\n",
            "<td style=\"width: 1739px; padding-left: 3.5pt; padding-right: 3.5pt; padding-top: 0cm; padding-bottom: 0cm\" valign=\"top\">\n",
            "<span alink=\"#008BBF\" bgcolor=\"#FFFFFF\" link=\"#007777\" text=\"#000000\" topmargin=\"2\" vlink=\"#FF0000\">\n",
            "<p class=\"MsoNormal\" style=\"text-align: justify; margin-top: 0; margin-bottom: 0; line-height:100%\">\n",
            "<span lang=\"ES\" style=\"font-size: 9pt; font-family: Verdana\"><b>DECRETO</b> \r\n",
            "\tpor el que se reforman, adicionan y derogan diversas disposiciones de la Ley \r\n",
            "\tdel Diario Oficial de la Federación y Gacetas Gubernamentales</span><span style=\"font-size: 9pt; font-family: Verdana\">.</span></p>\n",
            "<p class=\"MsoNormal\" style=\"text-align: justify; margin-top: 0; margin-bottom: 0; line-height:100%\">\n",
            "<span style=\"font-size: 9pt; font-family: Verdana\">| \r\n",
            "\t<a href=\"ldofgg/LDOFGG_ref01_05jun12.pdf\">DOF \r\n",
            "\t05-06-2012</a> | <a href=\"ldofgg/LDOFGG_ref01_05jun12.doc\">\r\n",
            "\tWord</a> |</span></p>\n",
            "<p class=\"MsoNormal\" style=\"text-align: justify; margin-top: 0; margin-bottom: 0; line-height:100%\">\n",
            "<span alink=\"#008BBF\" bgcolor=\"#FFFFFF\" link=\"#007777\" style=\"\" text=\"#000000\" topmargin=\"2\" vlink=\"#FF0000\">\n",
            "<span alink=\"#008BBF\" bgcolor=\"#FFFFFF\" lang=\"EN-US\" link=\"#007777\" style=\"font-size: 9pt; font-family: Verdana; \" text=\"#000000\" topmargin=\"2\" vlink=\"#FF0000\">| </span>\n",
            "<span alink=\"#008BBF\" bgcolor=\"#FFFFFF\" lang=\"es-mx\" link=\"#007777\" style=\"font-family: Verdana; \" text=\"#000000\" topmargin=\"2\" vlink=\"#FF0000\">\n",
            "<font color=\"#595843\">\n",
            "<a href=\"../proceso/lxi/237_DOF_05jun12.pdf\" target=\"_blank\">\n",
            "<font style=\"font-size: 9pt\">Proceso \r\n",
            "\t\t\t\t\t\t\t\tLegislativo</font></a></font><font style=\"font-size: 9pt\"> \r\n",
            "\t\t\t|</font></span></span></p>\n",
            "<p class=\"MsoNormal\" style=\"text-align: justify; margin-top: 0; margin-bottom: 0; line-height:100%\">\n",
            "<span style=\"font-family: Verdana; font-size: 9pt\"> </span></p>\n",
            "</span></td>\n",
            "</tr>\n",
            "<tr>\n",
            "<td align=\"right\" style=\"width: 41px; padding-left: 3.5pt; padding-right: 3.5pt; padding-top: 0cm; padding-bottom: 0cm\" valign=\"top\">\n",
            "<p class=\"MsoNormal\" style=\"margin-top: 0; margin-bottom: 0; line-height:100%\">\n",
            "<font color=\"#595843\" face=\"Verdana\" style=\"font-size: 9pt\">Orig</font></p></td>\n",
            "<td style=\"width: 1739px; padding-left: 3.5pt; padding-right: 3.5pt; padding-top: 0cm; padding-bottom: 0cm\" valign=\"top\">\n",
            "<span alink=\"#008BBF\" bgcolor=\"#FFFFFF\" link=\"#007777\" text=\"#000000\" topmargin=\"2\" vlink=\"#FF0000\">\n",
            "<p class=\"MsoNormal\" style=\"text-align: justify; margin-top: 0; margin-bottom: 0; line-height:100%\">\n",
            "<span style=\"font-size: 9pt; font-family: Verdana\">\n",
            "<b>LEY</b> del Diario Oficial de la Federación y Gacetas Gubernamentales.</span></p>\n",
            "<p class=\"MsoNormal\" style=\"text-align: justify; margin-top: 0; margin-bottom: 0; line-height:100%\">\n",
            "<span style=\"font-size: 9pt; font-family: Verdana\">| DOF 24-12-1986 |\r\n",
            "\t<a href=\"ldofgg/LDOFGG_orig_24dic86_ima.pdf\">Imagen</a> \r\n",
            "\t|</span></p>\n",
            "</span></td>\n",
            "</tr>\n",
            "</table>\n",
            "</div>\n",
            "<p style=\"text-align: center; margin-bottom: 0\"> </p>\n",
            "<div align=\"center\"><table border=\"0\" width=\"95%\"><tr><td>\n",
            "<p align=\"center\" style=\"margin-top: 0; margin-bottom: 0; line-height:100%\">\n",
            "<font color=\"#868A8E\" face=\"Verdana\" style=\"font-size: 8pt\">\n",
            "<img height=\"1\" src=\"../ima/h_line.gif\" style=\"height: 1px\" vspace=\"5\" width=\"100%\"/></font></p>\n",
            "<p align=\"center\" style=\"margin-top: 0; margin-bottom: 0; line-height:100%\">\n",
            "<strong>\n",
            "<font color=\"#808080\" face=\"Verdana\" style=\"font-size: 8pt\">\r\n",
            "\t\t\tSecretaría General</font></strong></p>\n",
            "<p align=\"center\" style=\"margin-top: 0; margin-bottom: 0; line-height:100%\"><strong>\n",
            "<font color=\"#808080\" face=\"Verdana\" style=\"font-size: 8pt\">Secretaría de \r\n",
            "\tServicios Parlamentarios</font></strong></p>\n",
            "<p align=\"center\" style=\"margin-top: 0; margin-bottom: 0; line-height:100%\">\n",
            "<strong style=\"font-weight: 400\">\n",
            "<font color=\"#808080\" face=\"Verdana\" style=\"font-size: 8pt\">Tel. 55 5628-1300, Ext. 2045</font></strong></p><p align=\"center\" style=\"margin-top: 0; margin-bottom: 0; line-height:100%\">\n",
            "<strong style=\"font-weight: 400\">\n",
            "<font color=\"#808080\" face=\"Verdana\" style=\"font-size: 8pt\">Correo \r\n",
            "\telectrónico</font></strong><span alink=\"#008BBF\" bgcolor=\"#FFFFFF\" lang=\"ES\" link=\"#007777\" text=\"#000000\" topmargin=\"2\" vlink=\"#FF0000\"><font face=\"Verdana\" style=\"font-size: 8pt\"><strong style=\"font-weight: 400\"><font color=\"#808080\">: \r\n",
            "\t<a href=\"mailto:armando.torres@diputados.gob.mx\"><font color=\"#808080\">armando.torres@diputados.gob.mx</font></a></font></strong></font></span></p></td></tr></table></div>\n",
            "</div>\n",
            "</section></div>\n",
            "<!-- Footer Area Start Here -->\n",
            "<footer>\n",
            "<div class=\"footer-area-bottom\">\n",
            "<div class=\"container\">\n",
            "<div class=\"row\">\n",
            "<div class=\"col-12 text-center\">\n",
            "<ul class=\"footer-social\">\n",
            "<li>\n",
            "<a href=\"https://www.facebook.com/camaradediputados\" target=\"_blank\" title=\"Facebook\">\n",
            "<i aria-hidden=\"true\" class=\"bx bxl-facebook bx-border\"></i>\n",
            "</a>\n",
            "</li>\n",
            "<li>\n",
            "<a href=\"https://twitter.com/Mx_Diputados\" target=\"_blank\" title=\"X-Twitter\">\n",
            "<i aria-hidden=\"true\" class=\"bx bxl-twitter bx-border\"></i>\n",
            "</a>\n",
            "</li>\n",
            "<li>\n",
            "<a href=\"https://www.youtube.com/user/camaradediputadosmx\" target=\"_blank\" title=\"YouTube\">\n",
            "<i aria-hidden=\"true\" class=\"bx bxl-youtube bx-border\"></i>\n",
            "</a>\n",
            "</li>\n",
            "</ul>\n",
            "</div>\n",
            "</div>\n",
            "</div>\n",
            "</div>\n",
            "<div class=\"bg-body footer-area-top\">\n",
            "<div class=\"container\">\n",
            "<div class=\"row\">\n",
            "<div class=\"col-xl-12 col-lg-12 col-md-12 col-sm-12\">\n",
            "<p align=\"center\">© 2024 Honorable Cámara de Diputados</p>\n",
            "</div>\n",
            "</div>\n",
            "</div>\n",
            "</div>\n",
            "</footer>\n",
            "<!-- Footer Area End Here -->\n",
            "<!-- Wrapper End -->\n",
            "<!-- jquery-->\n",
            "<script src=\"../js/jquery-2.2.4.min.js \" type=\"text/javascript\"></script>\n",
            "<!-- WOW JS -->\n",
            "<script src=\"../js/wow.min.js\"></script>\n",
            "<!-- Meanmenu Js -->\n",
            "<script src=\"../js/jquery.meanmenu.min.js \" type=\"text/javascript\"></script>\n",
            "<!-- Scrollup js -->\n",
            "<script src=\"../js/jquery.scrollUp.min.js \" type=\"text/javascript\"></script>\n",
            "<!-- Main Js -->\n",
            "<script src=\"../js/main.level2.js\" type=\"text/javascript\"></script>\n",
            "</body>\n",
            "</html>\n"
          ]
        }
      ]
    },
    {
      "cell_type": "code",
      "source": [
        "# Find the element on the webpage\n",
        "main_content = soup.find('div')"
      ],
      "metadata": {
        "id": "fbxz3J3H1D9S"
      },
      "execution_count": null,
      "outputs": []
    },
    {
      "cell_type": "code",
      "source": [
        "content = main_content.text\n",
        "(content)"
      ],
      "metadata": {
        "id": "EhepImBA1OMO",
        "colab": {
          "base_uri": "https://localhost:8080/",
          "height": 139
        },
        "collapsed": true,
        "outputId": "cd58096d-833a-42c0-e43c-5d96015a5cac"
      },
      "execution_count": null,
      "outputs": [
        {
          "output_type": "execute_result",
          "data": {
            "text/plain": [
              "'\\n\\n\\n\\n\\n\\n\\n\\n\\n\\n\\n\\r\\n\\t\\t\\t\\t\\t\\t\\t\\t\\t\\t\\t\\t. \\xa0\\xa0\\xa0\"LXVI Legislatura\"\\n\\n\\n\\n\\n\\n\\n\\n\\n\\n\\n\\n\\n\\n\\n\\n\\n\\n\\n\\n\\n\\n\\n\\n\\n\\n\\n\\n\\n\\n\\n\\n\\n\\n\\n\\n\\n\\n\\n\\n\\n\\n\\n\\nVIGENTES\\n\\n\\n\\n\\nCPEUM\\n\\n\\nReformas en Orden Cronológico\\n\\n\\nReformas por Artículo\\n\\n\\nReformas por Periodo Presidencial\\n\\n\\nMás de la Constitución\\n\\n\\n\\n\\n\\n\\nMARCO\\n\\n\\nMarco Jurídico del Congreso\\n\\n\\nNormas y Reglamentos internos\\n\\n\\nOtras Disposiciones de la Cámara\\n\\n\\n\\n\\n\\n\\nABROGADAS\\n\\n\\n\\n\\nSUMARIO\\n\\n\\n\\n\\nLEGISLATURAS\\n\\n\\nReformas LXVI Legislatura\\n\\n\\nReformas LXV Legislatura\\n\\n\\nReformas LXIV Legislatura\\n\\n\\nLegislaturas anteriores\\n\\n\\n\\n\\n\\n\\nDESCARGA\\n\\n\\n\\n\\nREG LEY\\n\\n\\nReglamentos de Leyes vigentes\\n\\n\\nReglamentos de Leyes abrogados\\n\\n\\n\\n\\n\\n\\nREG FED\\n\\n\\nEstatutos Federales vigentes\\n\\n\\nManuales Federales vigentes\\n\\n\\nReglamentos Federales vigentes\\n\\n\\n\\n\\n\\n\\nESTADOS\\n\\n\\n\\n\\nCOMPILA\\n\\n\\nAcciones de Inconstitucionalidad\\n\\n\\nControversias Constitucionales\\n\\n\\nDeclaratorias de Inconstitucionalidad\\n\\n\\nOtras Compilaciones\\n\\n\\n\\n\\n\\n\\nDOF\\n\\n\\nIndices 2024\\n\\n\\nIndices 2023\\n\\n\\nAños anteriores\\n\\n\\n\\n\\n\\n\\nACTUAL\\n\\n\\nActualizaciones 2024\\n\\n\\nActualizaciones 2023\\n\\n\\nAños anteriores\\n\\n\\n\\n\\n\\n\\n\\n\\n\\n\\n\\n\\n\\n\\n\\n\\n\\n\\n\\n\\n\\n\\n\\n\\n\\n\\n\\n\\n\\n\\n\\n\\n\\n\\n\\n\\nLey del Diario Oficial de \\r\\n\\tla Federación y Gacetas Gubernamentales\\n\\n\\nÚltima \\r\\n\\treforma publicada  \\nen el Diario Oficial de la Federación el \\n31 de mayo \\r\\n\\tde 2019\\n\\n\\nFe de erratas DOF 10-06-2019\\n\\xa0\\n\\n\\n\\n\\n\\n\\n\\nTexto Vigente:\\n\\n\\n\\n\\xa0\\r\\n\\t\\t\\t\\n\\xa0\\r\\n\\t\\t\\t\\n\\n\\n\\n\\n\\r\\n\\tPublicación Original:\\n\\n\\n| DOF 24-12-1986 |\\r\\n\\tImagen \\r\\n\\t|\\n\\n\\n\\n\\n\\n\\nDecretos de Reforma:\\n\\n\\n\\n\\n\\n\\n02\\n\\n\\n\\nDECRETO \\r\\n\\tpor el que se reforman, adicionan y derogan diversas disposiciones de la Ley \\r\\n\\tdel Diario Oficial de la Federación y Gacetas Gubernamentales.\\n\\n| \\r\\n\\tDOF \\r\\n\\t31-05-2019 | \\r\\n\\tWord |\\n\\nFe de erratas\\n\\n| \\r\\n\\tDOF \\r\\n\\t10-06-2019 | \\r\\n\\tWord |\\n\\n\\xa0\\n\\n\\n\\n\\n\\n01\\n\\n\\n\\nDECRETO \\r\\n\\tpor el que se reforman, adicionan y derogan diversas disposiciones de la Ley \\r\\n\\tdel Diario Oficial de la Federación y Gacetas Gubernamentales.\\n\\n| \\r\\n\\tDOF \\r\\n\\t05-06-2012 | \\r\\n\\tWord |\\n\\n\\n| \\n\\n\\n\\nProceso \\r\\n\\t\\t\\t\\t\\t\\t\\t\\tLegislativo \\r\\n\\t\\t\\t|\\n\\n\\xa0\\n\\n\\n\\n\\n\\nOrig\\n\\n\\n\\n\\nLEY del Diario Oficial de la Federación y Gacetas Gubernamentales.\\n\\n| DOF 24-12-1986 |\\r\\n\\tImagen \\r\\n\\t|\\n\\n\\n\\n\\n\\xa0\\n\\n\\n\\n\\n\\n\\n\\r\\n\\t\\t\\tSecretaría General\\n\\nSecretaría de \\r\\n\\tServicios Parlamentarios\\n\\n\\nTel. 55 5628-1300, Ext. 2045\\n\\nCorreo \\r\\n\\telectrónico: \\r\\n\\tarmando.torres@diputados.gob.mx\\n\\n'"
            ],
            "application/vnd.google.colaboratory.intrinsic+json": {
              "type": "string"
            }
          },
          "metadata": {},
          "execution_count": 7
        }
      ]
    },
    {
      "cell_type": "code",
      "source": [
        "content =re.sub('\\n','',str(content))\n",
        "(content)"
      ],
      "metadata": {
        "colab": {
          "base_uri": "https://localhost:8080/",
          "height": 139
        },
        "id": "AcntjlvF1q7Y",
        "outputId": "beab2d49-f092-4eb7-9561-3d48ed5f2da1"
      },
      "execution_count": null,
      "outputs": [
        {
          "output_type": "execute_result",
          "data": {
            "text/plain": [
              "'\\r\\t\\t\\t\\t\\t\\t\\t\\t\\t\\t\\t\\t. \\xa0\\xa0\\xa0\"LXVI Legislatura\"VIGENTESCPEUMReformas en Orden CronológicoReformas por ArtículoReformas por Periodo PresidencialMás de la ConstituciónMARCOMarco Jurídico del CongresoNormas y Reglamentos internosOtras Disposiciones de la CámaraABROGADASSUMARIOLEGISLATURASReformas LXVI LegislaturaReformas LXV LegislaturaReformas LXIV LegislaturaLegislaturas anterioresDESCARGAREG LEYReglamentos de Leyes vigentesReglamentos de Leyes abrogadosREG FEDEstatutos Federales vigentesManuales Federales vigentesReglamentos Federales vigentesESTADOSCOMPILAAcciones de InconstitucionalidadControversias ConstitucionalesDeclaratorias de InconstitucionalidadOtras CompilacionesDOFIndices 2024Indices 2023Años anterioresACTUALActualizaciones 2024Actualizaciones 2023Años anterioresLey del Diario Oficial de \\r\\tla Federación y Gacetas GubernamentalesÚltima \\r\\treforma publicada  en el Diario Oficial de la Federación el 31 de mayo \\r\\tde 2019Fe de erratas DOF 10-06-2019\\xa0Texto Vigente:\\xa0\\r\\t\\t\\t\\xa0\\r\\t\\t\\t\\r\\tPublicación Original:| DOF 24-12-1986 |\\r\\tImagen \\r\\t|Decretos de Reforma:02DECRETO \\r\\tpor el que se reforman, adicionan y derogan diversas disposiciones de la Ley \\r\\tdel Diario Oficial de la Federación y Gacetas Gubernamentales.| \\r\\tDOF \\r\\t31-05-2019 | \\r\\tWord |Fe de erratas| \\r\\tDOF \\r\\t10-06-2019 | \\r\\tWord |\\xa001DECRETO \\r\\tpor el que se reforman, adicionan y derogan diversas disposiciones de la Ley \\r\\tdel Diario Oficial de la Federación y Gacetas Gubernamentales.| \\r\\tDOF \\r\\t05-06-2012 | \\r\\tWord || Proceso \\r\\t\\t\\t\\t\\t\\t\\t\\tLegislativo \\r\\t\\t\\t|\\xa0OrigLEY del Diario Oficial de la Federación y Gacetas Gubernamentales.| DOF 24-12-1986 |\\r\\tImagen \\r\\t|\\xa0\\r\\t\\t\\tSecretaría GeneralSecretaría de \\r\\tServicios ParlamentariosTel. 55 5628-1300, Ext. 2045Correo \\r\\telectrónico: \\r\\tarmando.torres@diputados.gob.mx'"
            ],
            "application/vnd.google.colaboratory.intrinsic+json": {
              "type": "string"
            }
          },
          "metadata": {},
          "execution_count": 8
        }
      ]
    },
    {
      "cell_type": "code",
      "source": [
        "content =re.sub('\\t','',str(content))\n",
        "(content)"
      ],
      "metadata": {
        "colab": {
          "base_uri": "https://localhost:8080/",
          "height": 139
        },
        "id": "ai1kZQTx1yg6",
        "outputId": "6fe3e6d8-a26b-42ea-bece-4b6ed52689df"
      },
      "execution_count": null,
      "outputs": [
        {
          "output_type": "execute_result",
          "data": {
            "text/plain": [
              "'\\r. \\xa0\\xa0\\xa0\"LXVI Legislatura\"VIGENTESCPEUMReformas en Orden CronológicoReformas por ArtículoReformas por Periodo PresidencialMás de la ConstituciónMARCOMarco Jurídico del CongresoNormas y Reglamentos internosOtras Disposiciones de la CámaraABROGADASSUMARIOLEGISLATURASReformas LXVI LegislaturaReformas LXV LegislaturaReformas LXIV LegislaturaLegislaturas anterioresDESCARGAREG LEYReglamentos de Leyes vigentesReglamentos de Leyes abrogadosREG FEDEstatutos Federales vigentesManuales Federales vigentesReglamentos Federales vigentesESTADOSCOMPILAAcciones de InconstitucionalidadControversias ConstitucionalesDeclaratorias de InconstitucionalidadOtras CompilacionesDOFIndices 2024Indices 2023Años anterioresACTUALActualizaciones 2024Actualizaciones 2023Años anterioresLey del Diario Oficial de \\rla Federación y Gacetas GubernamentalesÚltima \\rreforma publicada  en el Diario Oficial de la Federación el 31 de mayo \\rde 2019Fe de erratas DOF 10-06-2019\\xa0Texto Vigente:\\xa0\\r\\xa0\\r\\rPublicación Original:| DOF 24-12-1986 |\\rImagen \\r|Decretos de Reforma:02DECRETO \\rpor el que se reforman, adicionan y derogan diversas disposiciones de la Ley \\rdel Diario Oficial de la Federación y Gacetas Gubernamentales.| \\rDOF \\r31-05-2019 | \\rWord |Fe de erratas| \\rDOF \\r10-06-2019 | \\rWord |\\xa001DECRETO \\rpor el que se reforman, adicionan y derogan diversas disposiciones de la Ley \\rdel Diario Oficial de la Federación y Gacetas Gubernamentales.| \\rDOF \\r05-06-2012 | \\rWord || Proceso \\rLegislativo \\r|\\xa0OrigLEY del Diario Oficial de la Federación y Gacetas Gubernamentales.| DOF 24-12-1986 |\\rImagen \\r|\\xa0\\rSecretaría GeneralSecretaría de \\rServicios ParlamentariosTel. 55 5628-1300, Ext. 2045Correo \\relectrónico: \\rarmando.torres@diputados.gob.mx'"
            ],
            "application/vnd.google.colaboratory.intrinsic+json": {
              "type": "string"
            }
          },
          "metadata": {},
          "execution_count": 9
        }
      ]
    },
    {
      "cell_type": "code",
      "source": [],
      "metadata": {
        "id": "-9gWqlcnUNet"
      },
      "execution_count": null,
      "outputs": []
    },
    {
      "cell_type": "code",
      "source": [
        "content =re.sub('\\xa0','',str(content))\n",
        "(content)"
      ],
      "metadata": {
        "colab": {
          "base_uri": "https://localhost:8080/",
          "height": 139
        },
        "id": "RPYzftSv138x",
        "outputId": "8d921792-fcb1-40bd-f229-8b1c365659d1",
        "collapsed": true
      },
      "execution_count": null,
      "outputs": [
        {
          "output_type": "execute_result",
          "data": {
            "text/plain": [
              "'\\r. \"LXVI Legislatura\"VIGENTESCPEUMReformas en Orden CronológicoReformas por ArtículoReformas por Periodo PresidencialMás de la ConstituciónMARCOMarco Jurídico del CongresoNormas y Reglamentos internosOtras Disposiciones de la CámaraABROGADASSUMARIOLEGISLATURASReformas LXVI LegislaturaReformas LXV LegislaturaReformas LXIV LegislaturaLegislaturas anterioresDESCARGAREG LEYReglamentos de Leyes vigentesReglamentos de Leyes abrogadosREG FEDEstatutos Federales vigentesManuales Federales vigentesReglamentos Federales vigentesESTADOSCOMPILAAcciones de InconstitucionalidadControversias ConstitucionalesDeclaratorias de InconstitucionalidadOtras CompilacionesDOFIndices 2024Indices 2023Años anterioresACTUALActualizaciones 2024Actualizaciones 2023Años anterioresLey del Diario Oficial de \\rla Federación y Gacetas GubernamentalesÚltima \\rreforma publicada  en el Diario Oficial de la Federación el 31 de mayo \\rde 2019Fe de erratas DOF 10-06-2019Texto Vigente:\\r\\r\\rPublicación Original:| DOF 24-12-1986 |\\rImagen \\r|Decretos de Reforma:02DECRETO \\rpor el que se reforman, adicionan y derogan diversas disposiciones de la Ley \\rdel Diario Oficial de la Federación y Gacetas Gubernamentales.| \\rDOF \\r31-05-2019 | \\rWord |Fe de erratas| \\rDOF \\r10-06-2019 | \\rWord |01DECRETO \\rpor el que se reforman, adicionan y derogan diversas disposiciones de la Ley \\rdel Diario Oficial de la Federación y Gacetas Gubernamentales.| \\rDOF \\r05-06-2012 | \\rWord || Proceso \\rLegislativo \\r|OrigLEY del Diario Oficial de la Federación y Gacetas Gubernamentales.| DOF 24-12-1986 |\\rImagen \\r|\\rSecretaría GeneralSecretaría de \\rServicios ParlamentariosTel. 55 5628-1300, Ext. 2045Correo \\relectrónico: \\rarmando.torres@diputados.gob.mx'"
            ],
            "application/vnd.google.colaboratory.intrinsic+json": {
              "type": "string"
            }
          },
          "metadata": {},
          "execution_count": 10
        }
      ]
    },
    {
      "cell_type": "code",
      "source": [
        "nom=re.findall(r'([^\\n]*\\bLey\\b[^\\n]*)',str(content))\n",
        "(nom)"
      ],
      "metadata": {
        "colab": {
          "base_uri": "https://localhost:8080/"
        },
        "collapsed": true,
        "id": "_U5RLk-XQ3B_",
        "outputId": "716b1dba-a0e1-43f1-e1d2-d67a3b86e4a3"
      },
      "execution_count": null,
      "outputs": [
        {
          "output_type": "execute_result",
          "data": {
            "text/plain": [
              "['\\r. \"LXVI Legislatura\"VIGENTESCPEUMReformas en Orden CronológicoReformas por ArtículoReformas por Periodo PresidencialMás de la ConstituciónMARCOMarco Jurídico del CongresoNormas y Reglamentos internosOtras Disposiciones de la CámaraABROGADASSUMARIOLEGISLATURASReformas LXVI LegislaturaReformas LXV LegislaturaReformas LXIV LegislaturaLegislaturas anterioresDESCARGAREG LEYReglamentos de Leyes vigentesReglamentos de Leyes abrogadosREG FEDEstatutos Federales vigentesManuales Federales vigentesReglamentos Federales vigentesESTADOSCOMPILAAcciones de InconstitucionalidadControversias ConstitucionalesDeclaratorias de InconstitucionalidadOtras CompilacionesDOFIndices 2024Indices 2023Años anterioresACTUALActualizaciones 2024Actualizaciones 2023Años anterioresLey del Diario Oficial de \\rla Federación y Gacetas GubernamentalesÚltima \\rreforma publicada  en el Diario Oficial de la Federación el 31 de mayo \\rde 2019Fe de erratas DOF 10-06-2019Texto Vigente:\\r\\r\\rPublicación Original:| DOF 24-12-1986 |\\rImagen \\r|Decretos de Reforma:02DECRETO \\rpor el que se reforman, adicionan y derogan diversas disposiciones de la Ley \\rdel Diario Oficial de la Federación y Gacetas Gubernamentales.| \\rDOF \\r31-05-2019 | \\rWord |Fe de erratas| \\rDOF \\r10-06-2019 | \\rWord |01DECRETO \\rpor el que se reforman, adicionan y derogan diversas disposiciones de la Ley \\rdel Diario Oficial de la Federación y Gacetas Gubernamentales.| \\rDOF \\r05-06-2012 | \\rWord || Proceso \\rLegislativo \\r|OrigLEY del Diario Oficial de la Federación y Gacetas Gubernamentales.| DOF 24-12-1986 |\\rImagen \\r|\\rSecretaría GeneralSecretaría de \\rServicios ParlamentariosTel. 55 5628-1300, Ext. 2045Correo \\relectrónico: \\rarmando.torres@diputados.gob.mx']"
            ]
          },
          "metadata": {},
          "execution_count": 11
        }
      ]
    },
    {
      "cell_type": "code",
      "source": [
        "a = re.findall(r'\\b[a-zA-Z0-9._%+-]+@[a-zA-Z0-9.-]+\\.[a-zA-Z]{2,}\\b' ,str(content))\n",
        "(a)"
      ],
      "metadata": {
        "colab": {
          "base_uri": "https://localhost:8080/"
        },
        "id": "xAmFfrj719BX",
        "outputId": "dacaeda4-2194-46ea-d71d-02e2630c5c0b"
      },
      "execution_count": null,
      "outputs": [
        {
          "output_type": "execute_result",
          "data": {
            "text/plain": [
              "['armando.torres@diputados.gob.mx']"
            ]
          },
          "metadata": {},
          "execution_count": 12
        }
      ]
    },
    {
      "cell_type": "code",
      "source": [
        "email =re.findall(r'[\\w.+-]+@[\\w-]+\\.[\\w.-]+', content)\n",
        "(email)"
      ],
      "metadata": {
        "colab": {
          "base_uri": "https://localhost:8080/"
        },
        "id": "-JkYYG7G1_rp",
        "outputId": "b7d1ed25-8f22-4a54-ef9b-a326256cd734"
      },
      "execution_count": null,
      "outputs": [
        {
          "output_type": "execute_result",
          "data": {
            "text/plain": [
              "['armando.torres@diputados.gob.mx']"
            ]
          },
          "metadata": {},
          "execution_count": 13
        }
      ]
    },
    {
      "cell_type": "code",
      "source": [
        "pattern = re.compile(r'[\\w.+-]+@[\\w-]+\\.[\\w.-]+')\n",
        "\n",
        "# Find all occurrences of the pattern\n",
        "email=pattern.findall(content)\n",
        "(email)"
      ],
      "metadata": {
        "colab": {
          "base_uri": "https://localhost:8080/"
        },
        "id": "XS13eipB2BLM",
        "outputId": "7928ef7e-4772-49b9-a0cb-6db2ce9a7482"
      },
      "execution_count": null,
      "outputs": [
        {
          "output_type": "execute_result",
          "data": {
            "text/plain": [
              "['armando.torres@diputados.gob.mx']"
            ]
          },
          "metadata": {},
          "execution_count": 14
        }
      ]
    },
    {
      "cell_type": "code",
      "source": [
        "ias =re.findall(r'[A-Z][a-z]*ias', content)\n",
        "(ias)"
      ],
      "metadata": {
        "colab": {
          "base_uri": "https://localhost:8080/"
        },
        "id": "n2ZsTtKWw-jz",
        "outputId": "ca4dd165-b4ae-493f-cb95-51316acac1f0"
      },
      "execution_count": null,
      "outputs": [
        {
          "output_type": "execute_result",
          "data": {
            "text/plain": [
              "['Controversias', 'Declaratorias']"
            ]
          },
          "metadata": {},
          "execution_count": 17
        }
      ]
    },
    {
      "cell_type": "code",
      "source": [
        "#### codigo lectura contrato"
      ],
      "metadata": {
        "id": "_NVnO24wvreU"
      },
      "execution_count": null,
      "outputs": []
    },
    {
      "cell_type": "code",
      "source": [
        "!pip install pdfminer"
      ],
      "metadata": {
        "colab": {
          "base_uri": "https://localhost:8080/"
        },
        "id": "NLZSsUtTwWfy",
        "outputId": "eba99522-8959-45c9-f6f1-bd9c03a30724"
      },
      "execution_count": null,
      "outputs": [
        {
          "output_type": "stream",
          "name": "stdout",
          "text": [
            "Collecting pdfminer\n",
            "  Downloading pdfminer-20191125.tar.gz (4.2 MB)\n",
            "\u001b[2K     \u001b[90m━━━━━━━━━━━━━━━━━━━━━━━━━━━━━━━━━━━━━━━━\u001b[0m \u001b[32m4.2/4.2 MB\u001b[0m \u001b[31m18.0 MB/s\u001b[0m eta \u001b[36m0:00:00\u001b[0m\n",
            "\u001b[?25h  Preparing metadata (setup.py) ... \u001b[?25l\u001b[?25hdone\n",
            "Collecting pycryptodome (from pdfminer)\n",
            "  Downloading pycryptodome-3.21.0-cp36-abi3-manylinux_2_17_x86_64.manylinux2014_x86_64.whl.metadata (3.4 kB)\n",
            "Downloading pycryptodome-3.21.0-cp36-abi3-manylinux_2_17_x86_64.manylinux2014_x86_64.whl (2.3 MB)\n",
            "\u001b[2K   \u001b[90m━━━━━━━━━━━━━━━━━━━━━━━━━━━━━━━━━━━━━━━━\u001b[0m \u001b[32m2.3/2.3 MB\u001b[0m \u001b[31m46.4 MB/s\u001b[0m eta \u001b[36m0:00:00\u001b[0m\n",
            "\u001b[?25hBuilding wheels for collected packages: pdfminer\n",
            "  Building wheel for pdfminer (setup.py) ... \u001b[?25l\u001b[?25hdone\n",
            "  Created wheel for pdfminer: filename=pdfminer-20191125-py3-none-any.whl size=6140066 sha256=4f6e8cb02460f9a2dbe8fe70bd289eb6e51756dcfce4a29190f2b3ca3177e085\n",
            "  Stored in directory: /root/.cache/pip/wheels/4e/c1/68/f7bd0a8f514661f76b5cbe3b5f76e0033d79f1296012cbbf72\n",
            "Successfully built pdfminer\n",
            "Installing collected packages: pycryptodome, pdfminer\n",
            "Successfully installed pdfminer-20191125 pycryptodome-3.21.0\n"
          ]
        }
      ]
    },
    {
      "cell_type": "code",
      "source": [
        "from io import BytesIO\n",
        "from io import StringIO\n",
        "import re\n",
        "import  pandas as pd\n",
        "\n",
        "from pdfminer.pdfinterp import PDFResourceManager, PDFPageInterpreter\n",
        "from pdfminer.converter import TextConverter\n",
        "from pdfminer.layout import LAParams\n",
        "from pdfminer.pdfpage import PDFPage\n",
        "\n"
      ],
      "metadata": {
        "id": "dao3E6mKwAy_"
      },
      "execution_count": null,
      "outputs": []
    },
    {
      "cell_type": "code",
      "source": [
        "def convert(fname, pages=None):\n",
        "    if not pages:\n",
        "        pagenums = set()\n",
        "    else:\n",
        "        pagenums = set(pages)\n",
        "\n",
        "    #output = BytesIO()\n",
        "    outfp = StringIO()\n",
        "\n",
        "    manager = PDFResourceManager()\n",
        "    converter = TextConverter(manager, outfp, laparams=LAParams())\n",
        "    interpreter = PDFPageInterpreter(manager, converter)\n",
        "\n",
        "    infile = open(fname, 'rb')\n",
        "\n",
        "    for page in PDFPage.get_pages(infile, pagenums):\n",
        "        interpreter.process_page(page)\n",
        "    infile.close()\n",
        "    converter.close()\n",
        "    text = outfp.getvalue()\n",
        "    outfp.close\n",
        "    return text"
      ],
      "metadata": {
        "id": "lno1fQNSvvUT"
      },
      "execution_count": null,
      "outputs": []
    },
    {
      "cell_type": "code",
      "source": [
        "content = convert('nombre archivo.pdf')"
      ],
      "metadata": {
        "id": "tIl_NWfZwvvT",
        "colab": {
          "base_uri": "https://localhost:8080/",
          "height": 263
        },
        "outputId": "d43de0d1-9576-498e-e9e5-cd7bb44d9e39"
      },
      "execution_count": null,
      "outputs": [
        {
          "output_type": "error",
          "ename": "FileNotFoundError",
          "evalue": "[Errno 2] No such file or directory: '0000202967COI0000016S300_RGiNTERMEDIACION COMERCIAL.pdf'",
          "traceback": [
            "\u001b[0;31m---------------------------------------------------------------------------\u001b[0m",
            "\u001b[0;31mFileNotFoundError\u001b[0m                         Traceback (most recent call last)",
            "\u001b[0;32m<ipython-input-10-720d96bfa7a2>\u001b[0m in \u001b[0;36m<cell line: 1>\u001b[0;34m()\u001b[0m\n\u001b[0;32m----> 1\u001b[0;31m \u001b[0mcontent\u001b[0m \u001b[0;34m=\u001b[0m \u001b[0mconvert\u001b[0m\u001b[0;34m(\u001b[0m\u001b[0;34m'0000202967COI0000016S300_RGiNTERMEDIACION COMERCIAL.pdf'\u001b[0m\u001b[0;34m)\u001b[0m\u001b[0;34m\u001b[0m\u001b[0;34m\u001b[0m\u001b[0m\n\u001b[0m",
            "\u001b[0;32m<ipython-input-9-53821f6a1418>\u001b[0m in \u001b[0;36mconvert\u001b[0;34m(fname, pages)\u001b[0m\n\u001b[1;32m     12\u001b[0m     \u001b[0minterpreter\u001b[0m \u001b[0;34m=\u001b[0m \u001b[0mPDFPageInterpreter\u001b[0m\u001b[0;34m(\u001b[0m\u001b[0mmanager\u001b[0m\u001b[0;34m,\u001b[0m \u001b[0mconverter\u001b[0m\u001b[0;34m)\u001b[0m\u001b[0;34m\u001b[0m\u001b[0;34m\u001b[0m\u001b[0m\n\u001b[1;32m     13\u001b[0m \u001b[0;34m\u001b[0m\u001b[0m\n\u001b[0;32m---> 14\u001b[0;31m     \u001b[0minfile\u001b[0m \u001b[0;34m=\u001b[0m \u001b[0mopen\u001b[0m\u001b[0;34m(\u001b[0m\u001b[0mfname\u001b[0m\u001b[0;34m,\u001b[0m \u001b[0;34m'rb'\u001b[0m\u001b[0;34m)\u001b[0m\u001b[0;34m\u001b[0m\u001b[0;34m\u001b[0m\u001b[0m\n\u001b[0m\u001b[1;32m     15\u001b[0m \u001b[0;34m\u001b[0m\u001b[0m\n\u001b[1;32m     16\u001b[0m     \u001b[0;32mfor\u001b[0m \u001b[0mpage\u001b[0m \u001b[0;32min\u001b[0m \u001b[0mPDFPage\u001b[0m\u001b[0;34m.\u001b[0m\u001b[0mget_pages\u001b[0m\u001b[0;34m(\u001b[0m\u001b[0minfile\u001b[0m\u001b[0;34m,\u001b[0m \u001b[0mpagenums\u001b[0m\u001b[0;34m)\u001b[0m\u001b[0;34m:\u001b[0m\u001b[0;34m\u001b[0m\u001b[0;34m\u001b[0m\u001b[0m\n",
            "\u001b[0;31mFileNotFoundError\u001b[0m: [Errno 2] No such file or directory: '0000202967COI0000016S300_RGiNTERMEDIACION COMERCIAL.pdf'"
          ]
        }
      ]
    },
    {
      "cell_type": "code",
      "source": [
        "content = 'CONTRATO DE COMERCIALIZACIÓN QUE CELEBRAN COCA COLA ' \\\n",
        "+ ' INDUSTRIAL, A QUIEN EN LO SUCESIVO SE LE' \\\n",
        "+'DENOMINARÁ EL COMERCIALIZADOR, REPRESENTADO POR LIC. OCTAVIO' \\\n",
        "+'JAVIER TALABERA SARMIENTO, EN SU CARÁCTER DE APODERADO,' \\\n",
        "+'ADSCRITO A LA SUBDIRECCIÓN DE COMERCIALIZACIÓN DE COMBUSTIBLES' \\\n",
        "+'DE TRANSPORTE Y POR LA OTRA PARTE, VALORES ZDC, S. A. DE C. V., A' \\\n",
        "+'QUIEN EN LO SUCESIVO SE LE DENOMINARÁ EL USUARIO, REPRESENTADO'\\\n",
        "+'POR EL C. MAURICIO  GOMEZ PUENTE, EN SU CARÁCTER DE'\\\n",
        "+'ADMINISTRADOR ÚNICO, AL TENOR DE LAS DECLARACIONES Y CLÁUSULAS'\\\n",
        "+'SIGUIENTES:'\n",
        "\n",
        "content\n",
        "\n",
        "\n"
      ],
      "metadata": {
        "colab": {
          "base_uri": "https://localhost:8080/",
          "height": 87
        },
        "id": "Sr_LaQiHMD4Q",
        "outputId": "be8d1b3f-c590-42b7-89b0-86fd81bd3e0b"
      },
      "execution_count": null,
      "outputs": [
        {
          "output_type": "execute_result",
          "data": {
            "text/plain": [
              "'CONTRATO DE COMERCIALIZACIÓN QUE CELEBRAN COCA COLA  INDUSTRIAL, A QUIEN EN LO SUCESIVO SE LEDENOMINARÁ EL COMERCIALIZADOR, REPRESENTADO POR LIC. OCTAVIOJAVIER TALABERA SARMIENTO, EN SU CARÁCTER DE APODERADO,ADSCRITO A LA SUBDIRECCIÓN DE COMERCIALIZACIÓN DE COMBUSTIBLESDE TRANSPORTE Y POR LA OTRA PARTE, VALORES ZDC, S. A. DE C. V., AQUIEN EN LO SUCESIVO SE LE DENOMINARÁ EL USUARIO, REPRESENTADOPOR EL C. MAURICIO  GOMEZ PUENTE, EN SU CARÁCTER DEADMINISTRADOR ÚNICO, AL TENOR DE LAS DECLARACIONES Y CLÁUSULASSIGUIENTES:'"
            ],
            "application/vnd.google.colaboratory.intrinsic+json": {
              "type": "string"
            }
          },
          "metadata": {},
          "execution_count": 14
        }
      ]
    },
    {
      "cell_type": "code",
      "source": [
        "content =re.sub('\\n','',str(content))\n",
        "content =re.sub('\\t','',str(content))"
      ],
      "metadata": {
        "id": "D-D_htokxBa3"
      },
      "execution_count": null,
      "outputs": []
    },
    {
      "cell_type": "code",
      "source": [
        "pattern = re.compile(r'^[^,]+,\\s?')\n",
        "email=pattern.findall(content)\n",
        "print(email)\n",
        "pattern = re.compile(r'(REPRESENTADO)(.*?),')\n",
        "email=pattern.findall(content)\n",
        "print(email)\n",
        "\n",
        "\n",
        "\n"
      ],
      "metadata": {
        "colab": {
          "base_uri": "https://localhost:8080/"
        },
        "id": "wUTOEa_XNtUo",
        "outputId": "a3318f21-e949-43bd-d621-96c1f8ff85bf"
      },
      "execution_count": null,
      "outputs": [
        {
          "output_type": "stream",
          "name": "stdout",
          "text": [
            "['CONTRATO DE COMERCIALIZACIÓN QUE CELEBRAN COCA COLA  INDUSTRIAL, ']\n",
            "[('REPRESENTADO', ' POR LIC. OCTAVIOJAVIER TALABERA SARMIENTO'), ('REPRESENTADO', 'POR EL C. MAURICIO  GOMEZ PUENTE')]\n"
          ]
        }
      ]
    },
    {
      "cell_type": "code",
      "source": [
        "pattern = re.compile(r'(REPRESENTADO)(.*?),')\n",
        "REPRESENTADO=pattern.findall(content)\n",
        "print(REPRESENTADO)"
      ],
      "metadata": {
        "colab": {
          "base_uri": "https://localhost:8080/"
        },
        "id": "EASO4CW3l39w",
        "outputId": "bec3ec2b-cd8e-4135-95fe-97bb10863ac5"
      },
      "execution_count": null,
      "outputs": [
        {
          "output_type": "stream",
          "name": "stdout",
          "text": [
            "[('REPRESENTADO', ' POR LIC. OCTAVIOJAVIER TALABERA SARMIENTO'), ('REPRESENTADO', 'POR EL C. MAURICIO  GOMEZ PUENTE')]\n"
          ]
        }
      ]
    },
    {
      "cell_type": "code",
      "source": [
        "pattern = re.compile(r'(OTRA PARTE)+(.|,)(.*?),')\n",
        "cliente=pattern.findall(content)\n",
        "print(cliente)"
      ],
      "metadata": {
        "colab": {
          "base_uri": "https://localhost:8080/"
        },
        "id": "q0C6WvKPl6ct",
        "outputId": "2fe89671-1844-4141-dae5-5ba4e65812fc"
      },
      "execution_count": null,
      "outputs": [
        {
          "output_type": "stream",
          "name": "stdout",
          "text": [
            "[('OTRA PARTE', ',', ' VALORES ZDC')]\n"
          ]
        }
      ]
    },
    {
      "cell_type": "code",
      "source": [
        "pattern = re.compile(r'(Dirección:)(.*?) domicilios')\n",
        "dir=pattern.findall(content)\n",
        "for x in dir:\n",
        " print(x)"
      ],
      "metadata": {
        "id": "0TKM9bb-oPBo"
      },
      "execution_count": null,
      "outputs": []
    },
    {
      "cell_type": "code",
      "source": [
        "pattern = re.compile(r'(Domicilio:)(.*?) información')\n",
        "dir=pattern.findall(content)\n",
        "for x in dir:\n",
        " print(x)"
      ],
      "metadata": {
        "id": "IODYwScvWYin"
      },
      "execution_count": null,
      "outputs": []
    },
    {
      "cell_type": "code",
      "source": [
        "\n",
        "\n",
        "correos = re.findall(r'\\b[a-zA-Z0-9._%+-]+@[a-zA-Z0-9.-]+\\.[a-zA-Z]{2,}\\b' ,str(content))\n",
        "print(correos)\n",
        "\n"
      ],
      "metadata": {
        "colab": {
          "base_uri": "https://localhost:8080/"
        },
        "id": "UdNGT2SbrlQF",
        "outputId": "eb098ff0-105a-4749-9c8a-c677e29cd6d4"
      },
      "execution_count": null,
      "outputs": [
        {
          "output_type": "stream",
          "name": "stdout",
          "text": [
            "[]\n"
          ]
        }
      ]
    }
  ]
}