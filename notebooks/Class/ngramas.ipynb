{
  "nbformat": 4,
  "nbformat_minor": 0,
  "metadata": {
    "colab": {
      "provenance": []
    },
    "kernelspec": {
      "name": "python3",
      "display_name": "Python 3"
    },
    "language_info": {
      "name": "python"
    }
  },
  "cells": [
    {
      "cell_type": "code",
      "source": [
        "import re"
      ],
      "metadata": {
        "id": "ZScj5WCejK0C"
      },
      "execution_count": 1,
      "outputs": []
    },
    {
      "cell_type": "code",
      "source": [
        "texto = \"Entretanto la sólida nave en su curso ligero \" \\\n",
        " + \" se enfrentó a las Sirenas: un soplo feliz la impelía\" \\\n",
        "+ \" mas de pronto cesó aquella brisa, una calma profunda\" \\\n",
        "+ \" se sintió alrededor: algún dios alisaba las olas.\" \\\n",
        "+ \" Levantáronse entonces mis hombres, plegaron la vela,\" \\\n",
        "+ \" la dejaron caer al fondo del barco y, sentándose al remo,\" \\\n",
        "+ \" blanqueaban de espumas el mar con las palas pulidas.\" \\\n",
        "+ \" Yo entretanto cogí el bronce agudo, corté un pan de cera\" \\\n",
        "+ \" y, partiéndolo en trozos pequeños, los fui pellizcando\" \\\n",
        "+ \" con mi mano robusta: ablandáronse pronto, que eran\" \\\n",
        "+ \" poderosos mis dedos y el fuego del sol de lo alto.\" \\\n",
        "+ \" Uno a uno a mis hombres con ellos tapé los oídos\" \\\n",
        "+ \" y, a su vez, me ataron de piernas y manos\" \\\n",
        "+ \" en el mástil, derecho, con fuertes maromas y, luego,\" \\\n",
        "+ \" a azotar con los remos volvieron al mar espumante.\" \\\n",
        "+ \" Ya distaba la costa no más que el alcance de un grito\" \\\n",
        "+ \" y la nave crucera volaba, mas bien percibieron\" \\\n",
        "+ \" las Sirenas su paso y alzaron su canto sonoro:\" \\\n",
        "+ \" Llega acá, de los dánaos honor, gloriosísimo Ulises,\" \\\n",
        "+ \" de tu marcha refrena el ardor para oír nuestro canto,\" \\\n",
        "+ \" porque nadie en su negro bajel pasa aquí sin que atienda\" \\\n",
        "+ \" a esta voz que en dulzores de miel de los labios nos fluye.\"\n"
      ],
      "metadata": {
        "id": "4MxV0J-yjH41"
      },
      "execution_count": 2,
      "outputs": []
    },
    {
      "cell_type": "code",
      "execution_count": 3,
      "metadata": {
        "id": "dXiELS3viHOu"
      },
      "outputs": [],
      "source": [
        "\n",
        "def generate_ngrams(text,n):\n",
        "\n",
        "    # split sentences into tokens\n",
        "    tokens=re.split(\"\\\\s+\",text)\n",
        "    ngrams=[]\n",
        "\n",
        "    # collect the n-grams\n",
        "    for i in range(len(tokens)-n+1):\n",
        "       temp=[tokens[j] for j in range(i,i+n)]\n",
        "       ngrams.append(\" \".join(temp))\n",
        "\n",
        "    return ngrams"
      ]
    },
    {
      "cell_type": "code",
      "source": [
        "ngramas = generate_ngrams(texto,2)"
      ],
      "metadata": {
        "id": "5v9GTKZGjhRU"
      },
      "execution_count": 6,
      "outputs": []
    },
    {
      "cell_type": "code",
      "source": [
        "print(ngramas)"
      ],
      "metadata": {
        "colab": {
          "base_uri": "https://localhost:8080/"
        },
        "id": "FuOpM1kfjyzm",
        "outputId": "c33c14f6-0d50-44ae-da30-02feb88cde2f"
      },
      "execution_count": 7,
      "outputs": [
        {
          "output_type": "stream",
          "name": "stdout",
          "text": [
            "['Entretanto la', 'la sólida', 'sólida nave', 'nave en', 'en su', 'su curso', 'curso ligero', 'ligero se', 'se enfrentó', 'enfrentó a', 'a las', 'las Sirenas:', 'Sirenas: un', 'un soplo', 'soplo feliz', 'feliz la', 'la impelía', 'impelía mas', 'mas de', 'de pronto', 'pronto cesó', 'cesó aquella', 'aquella brisa,', 'brisa, una', 'una calma', 'calma profunda', 'profunda se', 'se sintió', 'sintió alrededor:', 'alrededor: algún', 'algún dios', 'dios alisaba', 'alisaba las', 'las olas.', 'olas. Levantáronse', 'Levantáronse entonces', 'entonces mis', 'mis hombres,', 'hombres, plegaron', 'plegaron la', 'la vela,', 'vela, la', 'la dejaron', 'dejaron caer', 'caer al', 'al fondo', 'fondo del', 'del barco', 'barco y,', 'y, sentándose', 'sentándose al', 'al remo,', 'remo, blanqueaban', 'blanqueaban de', 'de espumas', 'espumas el', 'el mar', 'mar con', 'con las', 'las palas', 'palas pulidas.', 'pulidas. Yo', 'Yo entretanto', 'entretanto cogí', 'cogí el', 'el bronce', 'bronce agudo,', 'agudo, corté', 'corté un', 'un pan', 'pan de', 'de cera', 'cera y,', 'y, partiéndolo', 'partiéndolo en', 'en trozos', 'trozos pequeños,', 'pequeños, los', 'los fui', 'fui pellizcando', 'pellizcando con', 'con mi', 'mi mano', 'mano robusta:', 'robusta: ablandáronse', 'ablandáronse pronto,', 'pronto, que', 'que eran', 'eran poderosos', 'poderosos mis', 'mis dedos', 'dedos y', 'y el', 'el fuego', 'fuego del', 'del sol', 'sol de', 'de lo', 'lo alto.', 'alto. Uno', 'Uno a', 'a uno', 'uno a', 'a mis', 'mis hombres', 'hombres con', 'con ellos', 'ellos tapé', 'tapé los', 'los oídos', 'oídos y,', 'y, a', 'a su', 'su vez,', 'vez, me', 'me ataron', 'ataron de', 'de piernas', 'piernas y', 'y manos', 'manos en', 'en el', 'el mástil,', 'mástil, derecho,', 'derecho, con', 'con fuertes', 'fuertes maromas', 'maromas y,', 'y, luego,', 'luego, a', 'a azotar', 'azotar con', 'con los', 'los remos', 'remos volvieron', 'volvieron al', 'al mar', 'mar espumante.', 'espumante. Ya', 'Ya distaba', 'distaba la', 'la costa', 'costa no', 'no más', 'más que', 'que el', 'el alcance', 'alcance de', 'de un', 'un grito', 'grito y', 'y la', 'la nave', 'nave crucera', 'crucera volaba,', 'volaba, mas', 'mas bien', 'bien percibieron', 'percibieron las', 'las Sirenas', 'Sirenas su', 'su paso', 'paso y', 'y alzaron', 'alzaron su', 'su canto', 'canto sonoro:', 'sonoro: Llega', 'Llega acá,', 'acá, de', 'de los', 'los dánaos', 'dánaos honor,', 'honor, gloriosísimo', 'gloriosísimo Ulises,', 'Ulises, de', 'de tu', 'tu marcha', 'marcha refrena', 'refrena el', 'el ardor', 'ardor para', 'para oír', 'oír nuestro', 'nuestro canto,', 'canto, porque', 'porque nadie', 'nadie en', 'en su', 'su negro', 'negro bajel', 'bajel pasa', 'pasa aquí', 'aquí sin', 'sin que', 'que atienda', 'atienda a', 'a esta', 'esta voz', 'voz que', 'que en', 'en dulzores', 'dulzores de', 'de miel', 'miel de', 'de los', 'los labios', 'labios nos', 'nos fluye.']\n"
          ]
        }
      ]
    },
    {
      "cell_type": "code",
      "source": [
        "import nltk\n",
        "from nltk import ngrams\n",
        "from nltk.stem import PorterStemmer\n",
        "from nltk.tokenize import TweetTokenizer\n",
        "from nltk.tokenize import word_tokenize,sent_tokenize\n",
        "from nltk.corpus import stopwords\n",
        "import string\n",
        "import numpy as np\n",
        "\n",
        "\n",
        "nltk.download('stopwords')\n",
        "nltk.download('punkt')\n",
        "\n",
        "ngramas = ngrams(texto.split(), 1)"
      ],
      "metadata": {
        "id": "uHX-03wdjPYO",
        "colab": {
          "base_uri": "https://localhost:8080/"
        },
        "outputId": "ad7fc99e-49fe-470c-8f2f-076608441a74"
      },
      "execution_count": 8,
      "outputs": [
        {
          "output_type": "stream",
          "name": "stderr",
          "text": [
            "[nltk_data] Downloading package stopwords to /root/nltk_data...\n",
            "[nltk_data]   Unzipping corpora/stopwords.zip.\n",
            "[nltk_data] Downloading package punkt to /root/nltk_data...\n",
            "[nltk_data]   Unzipping tokenizers/punkt.zip.\n"
          ]
        }
      ]
    },
    {
      "cell_type": "code",
      "source": [
        "print(list(ngramas))"
      ],
      "metadata": {
        "colab": {
          "base_uri": "https://localhost:8080/"
        },
        "id": "c8bKwFcvkDzZ",
        "outputId": "731f0188-ef17-4d45-fd34-518f5d500b35"
      },
      "execution_count": 9,
      "outputs": [
        {
          "output_type": "stream",
          "name": "stdout",
          "text": [
            "[('Entretanto',), ('la',), ('sólida',), ('nave',), ('en',), ('su',), ('curso',), ('ligero',), ('se',), ('enfrentó',), ('a',), ('las',), ('Sirenas:',), ('un',), ('soplo',), ('feliz',), ('la',), ('impelía',), ('mas',), ('de',), ('pronto',), ('cesó',), ('aquella',), ('brisa,',), ('una',), ('calma',), ('profunda',), ('se',), ('sintió',), ('alrededor:',), ('algún',), ('dios',), ('alisaba',), ('las',), ('olas.',), ('Levantáronse',), ('entonces',), ('mis',), ('hombres,',), ('plegaron',), ('la',), ('vela,',), ('la',), ('dejaron',), ('caer',), ('al',), ('fondo',), ('del',), ('barco',), ('y,',), ('sentándose',), ('al',), ('remo,',), ('blanqueaban',), ('de',), ('espumas',), ('el',), ('mar',), ('con',), ('las',), ('palas',), ('pulidas.',), ('Yo',), ('entretanto',), ('cogí',), ('el',), ('bronce',), ('agudo,',), ('corté',), ('un',), ('pan',), ('de',), ('cera',), ('y,',), ('partiéndolo',), ('en',), ('trozos',), ('pequeños,',), ('los',), ('fui',), ('pellizcando',), ('con',), ('mi',), ('mano',), ('robusta:',), ('ablandáronse',), ('pronto,',), ('que',), ('eran',), ('poderosos',), ('mis',), ('dedos',), ('y',), ('el',), ('fuego',), ('del',), ('sol',), ('de',), ('lo',), ('alto.',), ('Uno',), ('a',), ('uno',), ('a',), ('mis',), ('hombres',), ('con',), ('ellos',), ('tapé',), ('los',), ('oídos',), ('y,',), ('a',), ('su',), ('vez,',), ('me',), ('ataron',), ('de',), ('piernas',), ('y',), ('manos',), ('en',), ('el',), ('mástil,',), ('derecho,',), ('con',), ('fuertes',), ('maromas',), ('y,',), ('luego,',), ('a',), ('azotar',), ('con',), ('los',), ('remos',), ('volvieron',), ('al',), ('mar',), ('espumante.',), ('Ya',), ('distaba',), ('la',), ('costa',), ('no',), ('más',), ('que',), ('el',), ('alcance',), ('de',), ('un',), ('grito',), ('y',), ('la',), ('nave',), ('crucera',), ('volaba,',), ('mas',), ('bien',), ('percibieron',), ('las',), ('Sirenas',), ('su',), ('paso',), ('y',), ('alzaron',), ('su',), ('canto',), ('sonoro:',), ('Llega',), ('acá,',), ('de',), ('los',), ('dánaos',), ('honor,',), ('gloriosísimo',), ('Ulises,',), ('de',), ('tu',), ('marcha',), ('refrena',), ('el',), ('ardor',), ('para',), ('oír',), ('nuestro',), ('canto,',), ('porque',), ('nadie',), ('en',), ('su',), ('negro',), ('bajel',), ('pasa',), ('aquí',), ('sin',), ('que',), ('atienda',), ('a',), ('esta',), ('voz',), ('que',), ('en',), ('dulzores',), ('de',), ('miel',), ('de',), ('los',), ('labios',), ('nos',), ('fluye.',)]\n"
          ]
        }
      ]
    },
    {
      "cell_type": "code",
      "source": [
        "from collections import Counter\n",
        "\n",
        "unigrams=[]\n",
        "bigrams=[]\n",
        "trigrams=[]\n",
        "unigrams = ngrams(texto.split(), 1)\n",
        "unigrams = generate_ngrams(texto,1)\n",
        "bigrams = ngrams(texto.split(), 2)\n",
        "\n",
        "trigrams = ngrams(texto.split(), 3)\n"
      ],
      "metadata": {
        "id": "J8z5hnQGSUsm"
      },
      "execution_count": 10,
      "outputs": []
    },
    {
      "cell_type": "code",
      "source": [
        "print(list(unigrams))"
      ],
      "metadata": {
        "colab": {
          "base_uri": "https://localhost:8080/"
        },
        "id": "QL1i-lRZXFMQ",
        "outputId": "21191e20-b987-4830-fc55-67dc704cb714"
      },
      "execution_count": 11,
      "outputs": [
        {
          "output_type": "stream",
          "name": "stdout",
          "text": [
            "['Entretanto', 'la', 'sólida', 'nave', 'en', 'su', 'curso', 'ligero', 'se', 'enfrentó', 'a', 'las', 'Sirenas:', 'un', 'soplo', 'feliz', 'la', 'impelía', 'mas', 'de', 'pronto', 'cesó', 'aquella', 'brisa,', 'una', 'calma', 'profunda', 'se', 'sintió', 'alrededor:', 'algún', 'dios', 'alisaba', 'las', 'olas.', 'Levantáronse', 'entonces', 'mis', 'hombres,', 'plegaron', 'la', 'vela,', 'la', 'dejaron', 'caer', 'al', 'fondo', 'del', 'barco', 'y,', 'sentándose', 'al', 'remo,', 'blanqueaban', 'de', 'espumas', 'el', 'mar', 'con', 'las', 'palas', 'pulidas.', 'Yo', 'entretanto', 'cogí', 'el', 'bronce', 'agudo,', 'corté', 'un', 'pan', 'de', 'cera', 'y,', 'partiéndolo', 'en', 'trozos', 'pequeños,', 'los', 'fui', 'pellizcando', 'con', 'mi', 'mano', 'robusta:', 'ablandáronse', 'pronto,', 'que', 'eran', 'poderosos', 'mis', 'dedos', 'y', 'el', 'fuego', 'del', 'sol', 'de', 'lo', 'alto.', 'Uno', 'a', 'uno', 'a', 'mis', 'hombres', 'con', 'ellos', 'tapé', 'los', 'oídos', 'y,', 'a', 'su', 'vez,', 'me', 'ataron', 'de', 'piernas', 'y', 'manos', 'en', 'el', 'mástil,', 'derecho,', 'con', 'fuertes', 'maromas', 'y,', 'luego,', 'a', 'azotar', 'con', 'los', 'remos', 'volvieron', 'al', 'mar', 'espumante.', 'Ya', 'distaba', 'la', 'costa', 'no', 'más', 'que', 'el', 'alcance', 'de', 'un', 'grito', 'y', 'la', 'nave', 'crucera', 'volaba,', 'mas', 'bien', 'percibieron', 'las', 'Sirenas', 'su', 'paso', 'y', 'alzaron', 'su', 'canto', 'sonoro:', 'Llega', 'acá,', 'de', 'los', 'dánaos', 'honor,', 'gloriosísimo', 'Ulises,', 'de', 'tu', 'marcha', 'refrena', 'el', 'ardor', 'para', 'oír', 'nuestro', 'canto,', 'porque', 'nadie', 'en', 'su', 'negro', 'bajel', 'pasa', 'aquí', 'sin', 'que', 'atienda', 'a', 'esta', 'voz', 'que', 'en', 'dulzores', 'de', 'miel', 'de', 'los', 'labios', 'nos', 'fluye.']\n"
          ]
        }
      ]
    },
    {
      "cell_type": "code",
      "source": [
        "print(list(bigrams))"
      ],
      "metadata": {
        "colab": {
          "base_uri": "https://localhost:8080/"
        },
        "id": "6F2IMgvQXlRf",
        "outputId": "c1c6dfc6-e5c8-4800-f917-5f99effc696d"
      },
      "execution_count": null,
      "outputs": [
        {
          "output_type": "stream",
          "name": "stdout",
          "text": [
            "[('Entretanto', 'la'), ('la', 'sólida'), ('sólida', 'nave'), ('nave', 'en'), ('en', 'su'), ('su', 'curso'), ('curso', 'ligero'), ('ligero', 'se'), ('se', 'enfrentó'), ('enfrentó', 'a'), ('a', 'las'), ('las', 'Sirenas:'), ('Sirenas:', 'un'), ('un', 'soplo'), ('soplo', 'feliz'), ('feliz', 'la'), ('la', 'impelía'), ('impelía', 'mas'), ('mas', 'de'), ('de', 'pronto'), ('pronto', 'cesó'), ('cesó', 'aquella'), ('aquella', 'brisa,'), ('brisa,', 'una'), ('una', 'calma'), ('calma', 'profunda'), ('profunda', 'se'), ('se', 'sintió'), ('sintió', 'alrededor:'), ('alrededor:', 'algún'), ('algún', 'dios'), ('dios', 'alisaba'), ('alisaba', 'las'), ('las', 'olas.'), ('olas.', 'Levantáronse'), ('Levantáronse', 'entonces'), ('entonces', 'mis'), ('mis', 'hombres,'), ('hombres,', 'plegaron'), ('plegaron', 'la'), ('la', 'vela,'), ('vela,', 'la'), ('la', 'dejaron'), ('dejaron', 'caer'), ('caer', 'al'), ('al', 'fondo'), ('fondo', 'del'), ('del', 'barco'), ('barco', 'y,'), ('y,', 'sentándose'), ('sentándose', 'al'), ('al', 'remo,'), ('remo,', 'blanqueaban'), ('blanqueaban', 'de'), ('de', 'espumas'), ('espumas', 'el'), ('el', 'mar'), ('mar', 'con'), ('con', 'las'), ('las', 'palas'), ('palas', 'pulidas.'), ('pulidas.', 'Yo'), ('Yo', 'entretanto'), ('entretanto', 'cogí'), ('cogí', 'el'), ('el', 'bronce'), ('bronce', 'agudo,'), ('agudo,', 'corté'), ('corté', 'un'), ('un', 'pan'), ('pan', 'de'), ('de', 'cera'), ('cera', 'y,'), ('y,', 'partiéndolo'), ('partiéndolo', 'en'), ('en', 'trozos'), ('trozos', 'pequeños,'), ('pequeños,', 'los'), ('los', 'fui'), ('fui', 'pellizcando'), ('pellizcando', 'con'), ('con', 'mi'), ('mi', 'mano'), ('mano', 'robusta:'), ('robusta:', 'ablandáronse'), ('ablandáronse', 'pronto,'), ('pronto,', 'que'), ('que', 'eran'), ('eran', 'poderosos'), ('poderosos', 'mis'), ('mis', 'dedos'), ('dedos', 'y'), ('y', 'el'), ('el', 'fuego'), ('fuego', 'del'), ('del', 'sol'), ('sol', 'de'), ('de', 'lo'), ('lo', 'alto.'), ('alto.', 'Uno'), ('Uno', 'a'), ('a', 'uno'), ('uno', 'a'), ('a', 'mis'), ('mis', 'hombres'), ('hombres', 'con'), ('con', 'ellos'), ('ellos', 'tapé'), ('tapé', 'los'), ('los', 'oídos'), ('oídos', 'y,'), ('y,', 'a'), ('a', 'su'), ('su', 'vez,'), ('vez,', 'me'), ('me', 'ataron'), ('ataron', 'de'), ('de', 'piernas'), ('piernas', 'y'), ('y', 'manos'), ('manos', 'en'), ('en', 'el'), ('el', 'mástil,'), ('mástil,', 'derecho,'), ('derecho,', 'con'), ('con', 'fuertes'), ('fuertes', 'maromas'), ('maromas', 'y,'), ('y,', 'luego,'), ('luego,', 'a'), ('a', 'azotar'), ('azotar', 'con'), ('con', 'los'), ('los', 'remos'), ('remos', 'volvieron'), ('volvieron', 'al'), ('al', 'mar'), ('mar', 'espumante.'), ('espumante.', 'Ya'), ('Ya', 'distaba'), ('distaba', 'la'), ('la', 'costa'), ('costa', 'no'), ('no', 'más'), ('más', 'que'), ('que', 'el'), ('el', 'alcance'), ('alcance', 'de'), ('de', 'un'), ('un', 'grito'), ('grito', 'y'), ('y', 'la'), ('la', 'nave'), ('nave', 'crucera'), ('crucera', 'volaba,'), ('volaba,', 'mas'), ('mas', 'bien'), ('bien', 'percibieron'), ('percibieron', 'las'), ('las', 'Sirenas'), ('Sirenas', 'su'), ('su', 'paso'), ('paso', 'y'), ('y', 'alzaron'), ('alzaron', 'su'), ('su', 'canto'), ('canto', 'sonoro:'), ('sonoro:', 'Llega'), ('Llega', 'acá,'), ('acá,', 'de'), ('de', 'los'), ('los', 'dánaos'), ('dánaos', 'honor,'), ('honor,', 'gloriosísimo'), ('gloriosísimo', 'Ulises,'), ('Ulises,', 'de'), ('de', 'tu'), ('tu', 'marcha'), ('marcha', 'refrena'), ('refrena', 'el'), ('el', 'ardor'), ('ardor', 'para'), ('para', 'oír'), ('oír', 'nuestro'), ('nuestro', 'canto,'), ('canto,', 'porque'), ('porque', 'nadie'), ('nadie', 'en'), ('en', 'su'), ('su', 'negro'), ('negro', 'bajel'), ('bajel', 'pasa'), ('pasa', 'aquí'), ('aquí', 'sin'), ('sin', 'que'), ('que', 'atienda'), ('atienda', 'a'), ('a', 'esta'), ('esta', 'voz'), ('voz', 'que'), ('que', 'en'), ('en', 'dulzores'), ('dulzores', 'de'), ('de', 'miel'), ('miel', 'de'), ('de', 'los'), ('los', 'labios'), ('labios', 'nos'), ('nos', 'fluye.')]\n"
          ]
        }
      ]
    },
    {
      "cell_type": "code",
      "source": [
        "print(list(trigrams))"
      ],
      "metadata": {
        "colab": {
          "base_uri": "https://localhost:8080/"
        },
        "id": "r814KkzQXlZ7",
        "outputId": "be2cc3e2-cb3b-46af-b7eb-674d94e85fff"
      },
      "execution_count": null,
      "outputs": [
        {
          "output_type": "stream",
          "name": "stdout",
          "text": [
            "[('Entretanto', 'la', 'sólida'), ('la', 'sólida', 'nave'), ('sólida', 'nave', 'en'), ('nave', 'en', 'su'), ('en', 'su', 'curso'), ('su', 'curso', 'ligero'), ('curso', 'ligero', 'se'), ('ligero', 'se', 'enfrentó'), ('se', 'enfrentó', 'a'), ('enfrentó', 'a', 'las'), ('a', 'las', 'Sirenas:'), ('las', 'Sirenas:', 'un'), ('Sirenas:', 'un', 'soplo'), ('un', 'soplo', 'feliz'), ('soplo', 'feliz', 'la'), ('feliz', 'la', 'impelía'), ('la', 'impelía', 'mas'), ('impelía', 'mas', 'de'), ('mas', 'de', 'pronto'), ('de', 'pronto', 'cesó'), ('pronto', 'cesó', 'aquella'), ('cesó', 'aquella', 'brisa,'), ('aquella', 'brisa,', 'una'), ('brisa,', 'una', 'calma'), ('una', 'calma', 'profunda'), ('calma', 'profunda', 'se'), ('profunda', 'se', 'sintió'), ('se', 'sintió', 'alrededor:'), ('sintió', 'alrededor:', 'algún'), ('alrededor:', 'algún', 'dios'), ('algún', 'dios', 'alisaba'), ('dios', 'alisaba', 'las'), ('alisaba', 'las', 'olas.'), ('las', 'olas.', 'Levantáronse'), ('olas.', 'Levantáronse', 'entonces'), ('Levantáronse', 'entonces', 'mis'), ('entonces', 'mis', 'hombres,'), ('mis', 'hombres,', 'plegaron'), ('hombres,', 'plegaron', 'la'), ('plegaron', 'la', 'vela,'), ('la', 'vela,', 'la'), ('vela,', 'la', 'dejaron'), ('la', 'dejaron', 'caer'), ('dejaron', 'caer', 'al'), ('caer', 'al', 'fondo'), ('al', 'fondo', 'del'), ('fondo', 'del', 'barco'), ('del', 'barco', 'y,'), ('barco', 'y,', 'sentándose'), ('y,', 'sentándose', 'al'), ('sentándose', 'al', 'remo,'), ('al', 'remo,', 'blanqueaban'), ('remo,', 'blanqueaban', 'de'), ('blanqueaban', 'de', 'espumas'), ('de', 'espumas', 'el'), ('espumas', 'el', 'mar'), ('el', 'mar', 'con'), ('mar', 'con', 'las'), ('con', 'las', 'palas'), ('las', 'palas', 'pulidas.'), ('palas', 'pulidas.', 'Yo'), ('pulidas.', 'Yo', 'entretanto'), ('Yo', 'entretanto', 'cogí'), ('entretanto', 'cogí', 'el'), ('cogí', 'el', 'bronce'), ('el', 'bronce', 'agudo,'), ('bronce', 'agudo,', 'corté'), ('agudo,', 'corté', 'un'), ('corté', 'un', 'pan'), ('un', 'pan', 'de'), ('pan', 'de', 'cera'), ('de', 'cera', 'y,'), ('cera', 'y,', 'partiéndolo'), ('y,', 'partiéndolo', 'en'), ('partiéndolo', 'en', 'trozos'), ('en', 'trozos', 'pequeños,'), ('trozos', 'pequeños,', 'los'), ('pequeños,', 'los', 'fui'), ('los', 'fui', 'pellizcando'), ('fui', 'pellizcando', 'con'), ('pellizcando', 'con', 'mi'), ('con', 'mi', 'mano'), ('mi', 'mano', 'robusta:'), ('mano', 'robusta:', 'ablandáronse'), ('robusta:', 'ablandáronse', 'pronto,'), ('ablandáronse', 'pronto,', 'que'), ('pronto,', 'que', 'eran'), ('que', 'eran', 'poderosos'), ('eran', 'poderosos', 'mis'), ('poderosos', 'mis', 'dedos'), ('mis', 'dedos', 'y'), ('dedos', 'y', 'el'), ('y', 'el', 'fuego'), ('el', 'fuego', 'del'), ('fuego', 'del', 'sol'), ('del', 'sol', 'de'), ('sol', 'de', 'lo'), ('de', 'lo', 'alto.'), ('lo', 'alto.', 'Uno'), ('alto.', 'Uno', 'a'), ('Uno', 'a', 'uno'), ('a', 'uno', 'a'), ('uno', 'a', 'mis'), ('a', 'mis', 'hombres'), ('mis', 'hombres', 'con'), ('hombres', 'con', 'ellos'), ('con', 'ellos', 'tapé'), ('ellos', 'tapé', 'los'), ('tapé', 'los', 'oídos'), ('los', 'oídos', 'y,'), ('oídos', 'y,', 'a'), ('y,', 'a', 'su'), ('a', 'su', 'vez,'), ('su', 'vez,', 'me'), ('vez,', 'me', 'ataron'), ('me', 'ataron', 'de'), ('ataron', 'de', 'piernas'), ('de', 'piernas', 'y'), ('piernas', 'y', 'manos'), ('y', 'manos', 'en'), ('manos', 'en', 'el'), ('en', 'el', 'mástil,'), ('el', 'mástil,', 'derecho,'), ('mástil,', 'derecho,', 'con'), ('derecho,', 'con', 'fuertes'), ('con', 'fuertes', 'maromas'), ('fuertes', 'maromas', 'y,'), ('maromas', 'y,', 'luego,'), ('y,', 'luego,', 'a'), ('luego,', 'a', 'azotar'), ('a', 'azotar', 'con'), ('azotar', 'con', 'los'), ('con', 'los', 'remos'), ('los', 'remos', 'volvieron'), ('remos', 'volvieron', 'al'), ('volvieron', 'al', 'mar'), ('al', 'mar', 'espumante.'), ('mar', 'espumante.', 'Ya'), ('espumante.', 'Ya', 'distaba'), ('Ya', 'distaba', 'la'), ('distaba', 'la', 'costa'), ('la', 'costa', 'no'), ('costa', 'no', 'más'), ('no', 'más', 'que'), ('más', 'que', 'el'), ('que', 'el', 'alcance'), ('el', 'alcance', 'de'), ('alcance', 'de', 'un'), ('de', 'un', 'grito'), ('un', 'grito', 'y'), ('grito', 'y', 'la'), ('y', 'la', 'nave'), ('la', 'nave', 'crucera'), ('nave', 'crucera', 'volaba,'), ('crucera', 'volaba,', 'mas'), ('volaba,', 'mas', 'bien'), ('mas', 'bien', 'percibieron'), ('bien', 'percibieron', 'las'), ('percibieron', 'las', 'Sirenas'), ('las', 'Sirenas', 'su'), ('Sirenas', 'su', 'paso'), ('su', 'paso', 'y'), ('paso', 'y', 'alzaron'), ('y', 'alzaron', 'su'), ('alzaron', 'su', 'canto'), ('su', 'canto', 'sonoro:'), ('canto', 'sonoro:', 'Llega'), ('sonoro:', 'Llega', 'acá,'), ('Llega', 'acá,', 'de'), ('acá,', 'de', 'los'), ('de', 'los', 'dánaos'), ('los', 'dánaos', 'honor,'), ('dánaos', 'honor,', 'gloriosísimo'), ('honor,', 'gloriosísimo', 'Ulises,'), ('gloriosísimo', 'Ulises,', 'de'), ('Ulises,', 'de', 'tu'), ('de', 'tu', 'marcha'), ('tu', 'marcha', 'refrena'), ('marcha', 'refrena', 'el'), ('refrena', 'el', 'ardor'), ('el', 'ardor', 'para'), ('ardor', 'para', 'oír'), ('para', 'oír', 'nuestro'), ('oír', 'nuestro', 'canto,'), ('nuestro', 'canto,', 'porque'), ('canto,', 'porque', 'nadie'), ('porque', 'nadie', 'en'), ('nadie', 'en', 'su'), ('en', 'su', 'negro'), ('su', 'negro', 'bajel'), ('negro', 'bajel', 'pasa'), ('bajel', 'pasa', 'aquí'), ('pasa', 'aquí', 'sin'), ('aquí', 'sin', 'que'), ('sin', 'que', 'atienda'), ('que', 'atienda', 'a'), ('atienda', 'a', 'esta'), ('a', 'esta', 'voz'), ('esta', 'voz', 'que'), ('voz', 'que', 'en'), ('que', 'en', 'dulzores'), ('en', 'dulzores', 'de'), ('dulzores', 'de', 'miel'), ('de', 'miel', 'de'), ('miel', 'de', 'los'), ('de', 'los', 'labios'), ('los', 'labios', 'nos'), ('labios', 'nos', 'fluye.')]\n"
          ]
        }
      ]
    },
    {
      "cell_type": "code",
      "source": [
        "def get_ngrams_freqDist(n, ngramList):\n",
        "    ngram_freq_dict = {}\n",
        "    for ngram in ngramList:\n",
        "        if ngram in ngram_freq_dict:\n",
        "            ngram_freq_dict[ngram] += 1\n",
        "        else:\n",
        "            ngram_freq_dict[ngram] = 1\n",
        "    return ngram_freq_dict\n",
        "unigrams_freqDist = get_ngrams_freqDist(1, unigrams)\n",
        "unigrams_Processed_freqDist = get_ngrams_freqDist(1, unigrams)\n",
        "bigrams_freqDist = get_ngrams_freqDist(2, bigrams)\n",
        "bigrams_Processed_freqDist = get_ngrams_freqDist(2, bigrams)\n",
        "trigrams_freqDist = get_ngrams_freqDist(3, trigrams)\n",
        "trigrams_Processed_freqDist = get_ngrams_freqDist(3, trigrams)"
      ],
      "metadata": {
        "id": "oZGK2RxPazDq"
      },
      "execution_count": 12,
      "outputs": []
    },
    {
      "cell_type": "code",
      "source": [
        "unigrams_freqDist"
      ],
      "metadata": {
        "id": "m5Z8SUcGa7n9",
        "colab": {
          "base_uri": "https://localhost:8080/"
        },
        "collapsed": true,
        "outputId": "c2db5a9d-0589-4f1c-80c6-24271e0dcd38"
      },
      "execution_count": 13,
      "outputs": [
        {
          "output_type": "execute_result",
          "data": {
            "text/plain": [
              "{'Entretanto': 1,\n",
              " 'la': 6,\n",
              " 'sólida': 1,\n",
              " 'nave': 2,\n",
              " 'en': 5,\n",
              " 'su': 5,\n",
              " 'curso': 1,\n",
              " 'ligero': 1,\n",
              " 'se': 2,\n",
              " 'enfrentó': 1,\n",
              " 'a': 6,\n",
              " 'las': 4,\n",
              " 'Sirenas:': 1,\n",
              " 'un': 3,\n",
              " 'soplo': 1,\n",
              " 'feliz': 1,\n",
              " 'impelía': 1,\n",
              " 'mas': 2,\n",
              " 'de': 10,\n",
              " 'pronto': 1,\n",
              " 'cesó': 1,\n",
              " 'aquella': 1,\n",
              " 'brisa,': 1,\n",
              " 'una': 1,\n",
              " 'calma': 1,\n",
              " 'profunda': 1,\n",
              " 'sintió': 1,\n",
              " 'alrededor:': 1,\n",
              " 'algún': 1,\n",
              " 'dios': 1,\n",
              " 'alisaba': 1,\n",
              " 'olas.': 1,\n",
              " 'Levantáronse': 1,\n",
              " 'entonces': 1,\n",
              " 'mis': 3,\n",
              " 'hombres,': 1,\n",
              " 'plegaron': 1,\n",
              " 'vela,': 1,\n",
              " 'dejaron': 1,\n",
              " 'caer': 1,\n",
              " 'al': 3,\n",
              " 'fondo': 1,\n",
              " 'del': 2,\n",
              " 'barco': 1,\n",
              " 'y,': 4,\n",
              " 'sentándose': 1,\n",
              " 'remo,': 1,\n",
              " 'blanqueaban': 1,\n",
              " 'espumas': 1,\n",
              " 'el': 6,\n",
              " 'mar': 2,\n",
              " 'con': 5,\n",
              " 'palas': 1,\n",
              " 'pulidas.': 1,\n",
              " 'Yo': 1,\n",
              " 'entretanto': 1,\n",
              " 'cogí': 1,\n",
              " 'bronce': 1,\n",
              " 'agudo,': 1,\n",
              " 'corté': 1,\n",
              " 'pan': 1,\n",
              " 'cera': 1,\n",
              " 'partiéndolo': 1,\n",
              " 'trozos': 1,\n",
              " 'pequeños,': 1,\n",
              " 'los': 5,\n",
              " 'fui': 1,\n",
              " 'pellizcando': 1,\n",
              " 'mi': 1,\n",
              " 'mano': 1,\n",
              " 'robusta:': 1,\n",
              " 'ablandáronse': 1,\n",
              " 'pronto,': 1,\n",
              " 'que': 4,\n",
              " 'eran': 1,\n",
              " 'poderosos': 1,\n",
              " 'dedos': 1,\n",
              " 'y': 4,\n",
              " 'fuego': 1,\n",
              " 'sol': 1,\n",
              " 'lo': 1,\n",
              " 'alto.': 1,\n",
              " 'Uno': 1,\n",
              " 'uno': 1,\n",
              " 'hombres': 1,\n",
              " 'ellos': 1,\n",
              " 'tapé': 1,\n",
              " 'oídos': 1,\n",
              " 'vez,': 1,\n",
              " 'me': 1,\n",
              " 'ataron': 1,\n",
              " 'piernas': 1,\n",
              " 'manos': 1,\n",
              " 'mástil,': 1,\n",
              " 'derecho,': 1,\n",
              " 'fuertes': 1,\n",
              " 'maromas': 1,\n",
              " 'luego,': 1,\n",
              " 'azotar': 1,\n",
              " 'remos': 1,\n",
              " 'volvieron': 1,\n",
              " 'espumante.': 1,\n",
              " 'Ya': 1,\n",
              " 'distaba': 1,\n",
              " 'costa': 1,\n",
              " 'no': 1,\n",
              " 'más': 1,\n",
              " 'alcance': 1,\n",
              " 'grito': 1,\n",
              " 'crucera': 1,\n",
              " 'volaba,': 1,\n",
              " 'bien': 1,\n",
              " 'percibieron': 1,\n",
              " 'Sirenas': 1,\n",
              " 'paso': 1,\n",
              " 'alzaron': 1,\n",
              " 'canto': 1,\n",
              " 'sonoro:': 1,\n",
              " 'Llega': 1,\n",
              " 'acá,': 1,\n",
              " 'dánaos': 1,\n",
              " 'honor,': 1,\n",
              " 'gloriosísimo': 1,\n",
              " 'Ulises,': 1,\n",
              " 'tu': 1,\n",
              " 'marcha': 1,\n",
              " 'refrena': 1,\n",
              " 'ardor': 1,\n",
              " 'para': 1,\n",
              " 'oír': 1,\n",
              " 'nuestro': 1,\n",
              " 'canto,': 1,\n",
              " 'porque': 1,\n",
              " 'nadie': 1,\n",
              " 'negro': 1,\n",
              " 'bajel': 1,\n",
              " 'pasa': 1,\n",
              " 'aquí': 1,\n",
              " 'sin': 1,\n",
              " 'atienda': 1,\n",
              " 'esta': 1,\n",
              " 'voz': 1,\n",
              " 'dulzores': 1,\n",
              " 'miel': 1,\n",
              " 'labios': 1,\n",
              " 'nos': 1,\n",
              " 'fluye.': 1}"
            ]
          },
          "metadata": {},
          "execution_count": 13
        }
      ]
    },
    {
      "cell_type": "code",
      "source": [
        "smoothed_bigrams_probDist = {}\n",
        "V = len(unigrams_freqDist)\n",
        "for i in bigrams_freqDist:\n",
        "    smoothed_bigrams_probDist[i] = (bigrams_freqDist[i] + 1)/(unigrams_freqDist[i[0]]+V)\n",
        "smoothed_trigrams_probDist = {}\n",
        "for i in trigrams_freqDist:\n",
        "    smoothed_trigrams_probDist[i] = (trigrams_freqDist[i] + 1)/(bigrams_freqDist[i[0:2]]+V)"
      ],
      "metadata": {
        "id": "s3fid2ejeLWU"
      },
      "execution_count": 14,
      "outputs": []
    },
    {
      "cell_type": "code",
      "source": [
        "testSent1 =  \"Yo entretanto cogí el bronce \"\n",
        "#testSent1 = \"escuchaba el canto\"\n"
      ],
      "metadata": {
        "id": "C1zoe7y4f4r3"
      },
      "execution_count": 15,
      "outputs": []
    },
    {
      "cell_type": "code",
      "source": [
        "token_1 = word_tokenize(testSent1)\n",
        "ngram_1 = {1:[], 2:[]}\n",
        "\n",
        "for i in range(2):\n",
        "    ngram_1[i+1] = list(ngrams(token_1, i+1))[-1]\n",
        "\n",
        "print(\"Sentence 1: \", ngram_1)"
      ],
      "metadata": {
        "colab": {
          "base_uri": "https://localhost:8080/"
        },
        "id": "k3uxNRuFf1KG",
        "outputId": "4b96f379-e14b-4edf-964f-927f9bacac7d"
      },
      "execution_count": 16,
      "outputs": [
        {
          "output_type": "stream",
          "name": "stdout",
          "text": [
            "Sentence 1:  {1: ('bronce',), 2: ('el', 'bronce')}\n"
          ]
        }
      ]
    },
    {
      "cell_type": "code",
      "source": [
        "next_word = {}\n",
        "for k in smoothed_bigrams_probDist:\n",
        "    if k[0] == ngram_1[1][0]:\n",
        "            next_word[k[1]] = smoothed_bigrams_probDist[k]\n",
        "    k = Counter(next_word)\n",
        "    high = k.most_common(1)\n",
        "\n",
        "print(high)\n"
      ],
      "metadata": {
        "colab": {
          "base_uri": "https://localhost:8080/"
        },
        "id": "Iybni_V7jpoa",
        "outputId": "ddc48ab1-d43b-41cf-efb4-844fd17ad734"
      },
      "execution_count": 17,
      "outputs": [
        {
          "output_type": "stream",
          "name": "stdout",
          "text": [
            "[('agudo,', 0.013513513513513514)]\n"
          ]
        }
      ]
    },
    {
      "cell_type": "code",
      "source": [
        "def predict_next_word(last_word,probDist):\n",
        "    next_word = {}\n",
        "    for k in probDist:\n",
        "        if k[0] == last_word:\n",
        "            next_word[k[1]] = probDist[k]\n",
        "    k = Counter(next_word)\n",
        "    high = k.most_common(1)\n",
        "    return high\n"
      ],
      "metadata": {
        "id": "cemGQipQhJs9"
      },
      "execution_count": 18,
      "outputs": []
    },
    {
      "cell_type": "code",
      "source": [
        "predict_next_word(ngram_1[1][0],smoothed_bigrams_probDist)\n"
      ],
      "metadata": {
        "colab": {
          "base_uri": "https://localhost:8080/"
        },
        "id": "aTO5mkt1BcIF",
        "outputId": "acec0726-c909-45c7-8f8c-415ff0e32197"
      },
      "execution_count": 19,
      "outputs": [
        {
          "output_type": "execute_result",
          "data": {
            "text/plain": [
              "[('agudo,', 0.013513513513513514)]"
            ]
          },
          "metadata": {},
          "execution_count": 19
        }
      ]
    },
    {
      "cell_type": "code",
      "source": [
        "next_word2 =predict_next_word(ngram_1[1][0],smoothed_bigrams_probDist)[0][0]\n",
        "predict_next_word(next_word2,smoothed_bigrams_probDist)"
      ],
      "metadata": {
        "colab": {
          "base_uri": "https://localhost:8080/"
        },
        "id": "DOTU6pHhFVFA",
        "outputId": "c766b34b-aab5-4b7b-a087-8e8b69605ab7"
      },
      "execution_count": 20,
      "outputs": [
        {
          "output_type": "execute_result",
          "data": {
            "text/plain": [
              "[('corté', 0.013513513513513514)]"
            ]
          },
          "metadata": {},
          "execution_count": 20
        }
      ]
    },
    {
      "cell_type": "code",
      "source": [
        "next_word3 =predict_next_word(next_word2,smoothed_bigrams_probDist)[0][0]\n",
        "predict_next_word(next_word3,smoothed_bigrams_probDist)"
      ],
      "metadata": {
        "colab": {
          "base_uri": "https://localhost:8080/"
        },
        "outputId": "d4d8ddcb-9e8f-4dd1-f9a3-b51d7ad809c5",
        "id": "5z2vubkaGYfM"
      },
      "execution_count": 21,
      "outputs": [
        {
          "output_type": "execute_result",
          "data": {
            "text/plain": [
              "[('un', 0.013513513513513514)]"
            ]
          },
          "metadata": {},
          "execution_count": 21
        }
      ]
    }
  ]
}