{
  "nbformat": 4,
  "nbformat_minor": 0,
  "metadata": {
    "colab": {
      "provenance": []
    },
    "kernelspec": {
      "name": "python3",
      "display_name": "Python 3"
    },
    "language_info": {
      "name": "python"
    }
  },
  "cells": [
    {
      "cell_type": "code",
      "execution_count": null,
      "metadata": {
        "id": "_0Q1ilCi56nH"
      },
      "outputs": [],
      "source": [
        "import re"
      ]
    },
    {
      "cell_type": "code",
      "source": [
        "\n",
        "texto = \"La UP es el primer lugar entre las universidades privadas\"\n",
        "\n",
        "matchObj = re.match( r'(.*) entre (.*?) .*', texto, re.M|re.I)\n",
        "\n",
        "if matchObj:\n",
        "   print ('matchObj.group() : ', matchObj.group())\n",
        "   print ('matchObj.group(1) : ', matchObj.group(1))\n",
        "   print ('matchObj.group(2) : ', matchObj.group(2))\n",
        "\n",
        "else:\n",
        "   print ('No match!!')"
      ],
      "metadata": {
        "colab": {
          "base_uri": "https://localhost:8080/"
        },
        "id": "P8xtV5k15_dn",
        "outputId": "750d1169-2984-49fb-8240-8201d0dd6424"
      },
      "execution_count": null,
      "outputs": [
        {
          "output_type": "stream",
          "name": "stdout",
          "text": [
            "matchObj.group() :  La UP es el primer lugar entre las universidades privadas\n",
            "matchObj.group(1) :  La UP es el primer lugar\n",
            "matchObj.group(2) :  las\n"
          ]
        }
      ]
    },
    {
      "cell_type": "code",
      "source": [
        "searchObj = re.search( r'(.*) entre (.*?) .*', texto, re.M|re.I)\n",
        "\n",
        "if searchObj:\n",
        "   print (\"searchObj.group() : \", searchObj.group())\n",
        "   print (\"searchObj.group(1) : \", searchObj.group(1))\n",
        "   print (\"searchObj.group(2) : \", searchObj.group(2))\n",
        "else:\n",
        "   print (\"Nothing found!!\")"
      ],
      "metadata": {
        "colab": {
          "base_uri": "https://localhost:8080/"
        },
        "id": "AaVEMNEx8WvF",
        "outputId": "1cac6eeb-7636-4c9b-ace4-7494cd48c9df"
      },
      "execution_count": null,
      "outputs": [
        {
          "output_type": "stream",
          "name": "stdout",
          "text": [
            "Nothing found!!\n"
          ]
        }
      ]
    },
    {
      "cell_type": "code",
      "source": [
        "matchObj = re.match( r'UP', texto, re.M|re.I)\n",
        "if matchObj:\n",
        "   print (\"match --> matchObj.group() : \", matchObj.group())\n",
        "else:\n",
        "   print (\"No match!!\")\n",
        "\n",
        "searchObj = re.search( r'UP', texto, re.M|re.I)\n",
        "if searchObj:\n",
        "   print (\"search --> searchObj.group() : \", searchObj.group())\n",
        "else:\n",
        "   print (\"Nothing found!!\")"
      ],
      "metadata": {
        "colab": {
          "base_uri": "https://localhost:8080/"
        },
        "id": "eJI_8adN8wMX",
        "outputId": "1f07f204-ad09-4e79-b2c2-97e000dd4196"
      },
      "execution_count": null,
      "outputs": [
        {
          "output_type": "stream",
          "name": "stdout",
          "text": [
            "No match!!\n",
            "search --> searchObj.group() :  UP\n"
          ]
        }
      ]
    },
    {
      "cell_type": "code",
      "source": [
        "str = 'an example word:cat!!'\n",
        "match = re.search(r'word:\\w\\w\\w', str)\n",
        "# If-statement after search() tests if it succeeded\n",
        "if match:\n",
        "  print('found', match.group()) ## 'found word:cat'\n",
        "else:\n",
        "  print('did not find')"
      ],
      "metadata": {
        "id": "ks_-6IqbMxYA",
        "outputId": "714191f6-915e-419c-d15c-e261bc0f3e92",
        "colab": {
          "base_uri": "https://localhost:8080/"
        }
      },
      "execution_count": null,
      "outputs": [
        {
          "output_type": "stream",
          "name": "stdout",
          "text": [
            "found word:cat\n"
          ]
        }
      ]
    },
    {
      "cell_type": "code",
      "source": [
        "tweet = \"#RE #UP Inscripciónes abiertas 2024 @estudiaUP #carreras\"\n",
        "\n",
        "t = re.sub(r'^#', \"\", tweet)\n",
        "print (\"Tweet: \", t)\n",
        "\n",
        "# Remove anything other\n",
        "t = re.sub(r'[^aeiou]', \"\", tweet)\n",
        "print (\"Tweet: \", t)"
      ],
      "metadata": {
        "colab": {
          "base_uri": "https://localhost:8080/"
        },
        "id": "Enj4cvb59pv2",
        "outputId": "823cabf1-88a1-4971-82f9-8858b72902fd"
      },
      "execution_count": null,
      "outputs": [
        {
          "output_type": "stream",
          "name": "stdout",
          "text": [
            "Tweet:  RE #UP Inscripciónes abiertas 2024 @estudiaUP #carreras\n",
            "Tweet:  iieaieaeuiaaea\n"
          ]
        }
      ]
    }
  ]
}